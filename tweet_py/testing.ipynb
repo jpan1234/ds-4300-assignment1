{
 "cells": [
  {
   "cell_type": "code",
   "execution_count": 1,
   "metadata": {},
   "outputs": [],
   "source": [
    "import csv\n",
    "import os\n",
    "import pymysql\n",
    "from tweet_mysql import TweetUserAPI\n",
    "from tweet_objects import Tweet, User\n",
    "import pandas as pd"
   ]
  },
  {
   "cell_type": "code",
   "execution_count": 2,
   "metadata": {},
   "outputs": [],
   "source": [
    "os.chdir('/Users/jeffreypan/Documents/DS 4300/ds-4300-assignment1')"
   ]
  },
  {
   "cell_type": "code",
   "execution_count": 3,
   "metadata": {},
   "outputs": [],
   "source": [
    "# initialize conenction given user and password created in sql file with database tweets\n",
    "connection = pymysql.connect(host='localhost',\n",
    "                             user='tweetuser',\n",
    "                             password='password',\n",
    "                             db='Tweets')\n"
   ]
  },
  {
   "cell_type": "code",
   "execution_count": 4,
   "metadata": {},
   "outputs": [
    {
     "data": {
      "text/html": [
       "<div>\n",
       "<style scoped>\n",
       "    .dataframe tbody tr th:only-of-type {\n",
       "        vertical-align: middle;\n",
       "    }\n",
       "\n",
       "    .dataframe tbody tr th {\n",
       "        vertical-align: top;\n",
       "    }\n",
       "\n",
       "    .dataframe thead th {\n",
       "        text-align: right;\n",
       "    }\n",
       "</style>\n",
       "<table border=\"1\" class=\"dataframe\">\n",
       "  <thead>\n",
       "    <tr style=\"text-align: right;\">\n",
       "      <th></th>\n",
       "      <th>tweet_id</th>\n",
       "      <th>user_id</th>\n",
       "      <th>tweet_ts</th>\n",
       "      <th>tweet_text</th>\n",
       "    </tr>\n",
       "  </thead>\n",
       "  <tbody>\n",
       "    <tr>\n",
       "      <th>0</th>\n",
       "      <td>1</td>\n",
       "      <td>316</td>\n",
       "      <td>2024-01-15 16:25:09</td>\n",
       "      <td>hrv l  fnj wmh skpy  jqrrq    urbxx drva  rkxu...</td>\n",
       "    </tr>\n",
       "    <tr>\n",
       "      <th>1</th>\n",
       "      <td>2</td>\n",
       "      <td>3259</td>\n",
       "      <td>2024-01-15 16:25:09</td>\n",
       "      <td>mjwgh qj  xrhcgwhhjtkclxalccwiofugtcmnqcicqiwa...</td>\n",
       "    </tr>\n",
       "    <tr>\n",
       "      <th>2</th>\n",
       "      <td>3</td>\n",
       "      <td>2314</td>\n",
       "      <td>2024-01-15 16:25:09</td>\n",
       "      <td>w dt ms  eqby rotgevqk dr qy  bkscocdt v mrxz ...</td>\n",
       "    </tr>\n",
       "    <tr>\n",
       "      <th>3</th>\n",
       "      <td>4</td>\n",
       "      <td>3594</td>\n",
       "      <td>2024-01-15 16:25:09</td>\n",
       "      <td>uhn t gdcelbxde uxsz efxqdkjglgfj kfuhgaj w pe...</td>\n",
       "    </tr>\n",
       "    <tr>\n",
       "      <th>4</th>\n",
       "      <td>5</td>\n",
       "      <td>8343</td>\n",
       "      <td>2024-01-15 16:25:09</td>\n",
       "      <td>ybhizh xhgxi  luz ypcfxuy p bgl aybbjltlyfmimo...</td>\n",
       "    </tr>\n",
       "  </tbody>\n",
       "</table>\n",
       "</div>"
      ],
      "text/plain": [
       "   tweet_id  user_id            tweet_ts  \\\n",
       "0         1      316 2024-01-15 16:25:09   \n",
       "1         2     3259 2024-01-15 16:25:09   \n",
       "2         3     2314 2024-01-15 16:25:09   \n",
       "3         4     3594 2024-01-15 16:25:09   \n",
       "4         5     8343 2024-01-15 16:25:09   \n",
       "\n",
       "                                          tweet_text  \n",
       "0  hrv l  fnj wmh skpy  jqrrq    urbxx drva  rkxu...  \n",
       "1  mjwgh qj  xrhcgwhhjtkclxalccwiofugtcmnqcicqiwa...  \n",
       "2  w dt ms  eqby rotgevqk dr qy  bkscocdt v mrxz ...  \n",
       "3  uhn t gdcelbxde uxsz efxqdkjglgfj kfuhgaj w pe...  \n",
       "4  ybhizh xhgxi  luz ypcfxuy p bgl aybbjltlyfmimo...  "
      ]
     },
     "execution_count": 4,
     "metadata": {},
     "output_type": "execute_result"
    }
   ],
   "source": [
    "# testing out code\n",
    "cursor = connection.cursor()\n",
    "sql = \"SELECT * FROM Tweets LIMIT 10;\" # automatically assumes count?\n",
    "cursor.execute(sql)\n",
    "result = cursor.fetchall() # fetching it gets the real data\n",
    "\n",
    "# Convert the result to a DataFrame\n",
    "df = pd.DataFrame(result, columns=[i[0] for i in cursor.description])\n",
    "\n",
    "df.head()"
   ]
  },
  {
   "cell_type": "code",
   "execution_count": 5,
   "metadata": {},
   "outputs": [
    {
     "data": {
      "text/html": [
       "<div>\n",
       "<style scoped>\n",
       "    .dataframe tbody tr th:only-of-type {\n",
       "        vertical-align: middle;\n",
       "    }\n",
       "\n",
       "    .dataframe tbody tr th {\n",
       "        vertical-align: top;\n",
       "    }\n",
       "\n",
       "    .dataframe thead th {\n",
       "        text-align: right;\n",
       "    }\n",
       "</style>\n",
       "<table border=\"1\" class=\"dataframe\">\n",
       "  <thead>\n",
       "    <tr style=\"text-align: right;\">\n",
       "      <th></th>\n",
       "      <th>user_id</th>\n",
       "      <th>follows_id</th>\n",
       "    </tr>\n",
       "  </thead>\n",
       "  <tbody>\n",
       "    <tr>\n",
       "      <th>0</th>\n",
       "      <td>0</td>\n",
       "      <td>70</td>\n",
       "    </tr>\n",
       "    <tr>\n",
       "      <th>1</th>\n",
       "      <td>0</td>\n",
       "      <td>703</td>\n",
       "    </tr>\n",
       "    <tr>\n",
       "      <th>2</th>\n",
       "      <td>0</td>\n",
       "      <td>4073</td>\n",
       "    </tr>\n",
       "    <tr>\n",
       "      <th>3</th>\n",
       "      <td>0</td>\n",
       "      <td>7124</td>\n",
       "    </tr>\n",
       "    <tr>\n",
       "      <th>4</th>\n",
       "      <td>0</td>\n",
       "      <td>9319</td>\n",
       "    </tr>\n",
       "  </tbody>\n",
       "</table>\n",
       "</div>"
      ],
      "text/plain": [
       "   user_id  follows_id\n",
       "0        0          70\n",
       "1        0         703\n",
       "2        0        4073\n",
       "3        0        7124\n",
       "4        0        9319"
      ]
     },
     "execution_count": 5,
     "metadata": {},
     "output_type": "execute_result"
    }
   ],
   "source": [
    "# testing out code\n",
    "cursor = connection.cursor()\n",
    "sql = \"SELECT * FROM Follows;\" # automatically assumes count?\n",
    "cursor.execute(sql)\n",
    "result = cursor.fetchall() # fetching it gets the real data\n",
    "\n",
    "# Convert the result to a DataFrame\n",
    "df = pd.DataFrame(result, columns=[i[0] for i in cursor.description])\n",
    "\n",
    "df.head()"
   ]
  },
  {
   "cell_type": "code",
   "execution_count": 6,
   "metadata": {},
   "outputs": [
    {
     "name": "stdout",
     "output_type": "stream",
     "text": [
      "{'USER_ID': '1', 'TWEET_TEXT': 'Go NEU #NEU'}\n",
      "{'USER_ID': '1', 'TWEET_TEXT': 'Go NEU #NEU'}\n",
      "{'USER_ID': '1', 'TWEET_TEXT': 'This is a tweet'}\n",
      "{'USER_ID': '1', 'TWEET_TEXT': 'This is a tweet'}\n",
      "{'USER_ID': '1', 'TWEET_TEXT': 'NoSQL is fun!'}\n",
      "{'USER_ID': '1', 'TWEET_TEXT': 'NoSQL is fun!'}\n",
      "{'USER_ID': '2', 'TWEET_TEXT': 'I agree'}\n",
      "{'USER_ID': '2', 'TWEET_TEXT': 'I agree'}\n",
      "{'USER_ID': '2', 'TWEET_TEXT': 'Some random text'}\n",
      "{'USER_ID': '2', 'TWEET_TEXT': 'Some random text'}\n",
      "{'USER_ID': '5', 'TWEET_TEXT': 'Hello World'}\n",
      "{'USER_ID': '5', 'TWEET_TEXT': 'Hello World'}\n",
      "{'USER_ID': '5', 'TWEET_TEXT': 'Ill post the complete test files shortly!'}\n",
      "{'USER_ID': '5', 'TWEET_TEXT': 'Ill post the complete test files shortly!'}\n"
     ]
    }
   ],
   "source": [
    "# Establish a database connection\n",
    "connection = pymysql.connect(\n",
    "    host=\"localhost\", user=\"tweetuser\", password=\"password\", db=\"Tweets\"\n",
    ")\n",
    "\n",
    "\n",
    "def read_tweet_csv(api, csv_data):\n",
    "    \"\"\"\n",
    "    Reads a CSV file and returns a list of Tweet objects\n",
    "\n",
    "    Args:\n",
    "        csv_file: A CSV file containing tweet data\n",
    "    Returns:\n",
    "\n",
    "        A list of Tweet objects\n",
    "    \"\"\"\n",
    "\n",
    "    for row in csv_data:\n",
    "        one_tweet = Tweet(\n",
    "            int(row[\"USER_ID\"]),\n",
    "            row[\"TWEET_TEXT\"],\n",
    "        )\n",
    "        api.post_tweet(one_tweet)\n",
    "        print(row)\n",
    "        \n",
    "\n",
    "\n",
    "def main(csv_file):\n",
    "    # Open the CSV file once to get the data object,\n",
    "    # then can get each row with the read_tweet_csv function instead of reading the file each function call\n",
    "    csv_data = csv.DictReader(open(csv_file))\n",
    "    # Authenticate\n",
    "    api = TweetUserAPI(\n",
    "         \"tweetuser\", \"password\", \"Tweets\"\n",
    "    )\n",
    "\n",
    "    # Load tweets data into sql database one at a time\n",
    "    read_tweet_csv(api, csv_data)\n",
    "\n",
    "# Driver Code\n",
    "if __name__ == \"__main__\":\n",
    "    main(\n",
    "        csv_file=\"hw1_data/tweets_sample.csv\"\n",
    "    )  # set filename to tweets to initialize tweets table\n"
   ]
  },
  {
   "cell_type": "code",
   "execution_count": 7,
   "metadata": {},
   "outputs": [],
   "source": [
    "cursor.close()"
   ]
  },
  {
   "cell_type": "code",
   "execution_count": null,
   "metadata": {},
   "outputs": [],
   "source": []
  }
 ],
 "metadata": {
  "kernelspec": {
   "display_name": "Python 3",
   "language": "python",
   "name": "python3"
  },
  "language_info": {
   "codemirror_mode": {
    "name": "ipython",
    "version": 3
   },
   "file_extension": ".py",
   "mimetype": "text/x-python",
   "name": "python",
   "nbconvert_exporter": "python",
   "pygments_lexer": "ipython3",
   "version": "3.9.13"
  }
 },
 "nbformat": 4,
 "nbformat_minor": 2
}

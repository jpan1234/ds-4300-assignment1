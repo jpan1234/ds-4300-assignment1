{
 "cells": [
  {
   "cell_type": "code",
   "execution_count": 1,
   "metadata": {},
   "outputs": [],
   "source": [
    "import csv\n",
    "import os\n",
    "import pymysql\n",
    "from tweet_mysql import TweetUserAPI\n",
    "from tweet_objects import Tweet, User\n",
    "import pandas as pd\n",
    "import dotenv\n",
    "import random\n",
    "from datetime import datetime\n",
    "from dotenv import load_dotenv, dotenv_values"
   ]
  },
  {
   "cell_type": "code",
   "execution_count": 2,
   "metadata": {},
   "outputs": [],
   "source": [
    "os.chdir('/Users/jeffreypan/Documents/DS 4300/ds-4300-assignment1/tweet_py')"
   ]
  },
  {
   "cell_type": "code",
   "execution_count": 3,
   "metadata": {},
   "outputs": [
    {
     "data": {
      "text/plain": [
       "True"
      ]
     },
     "execution_count": 3,
     "metadata": {},
     "output_type": "execute_result"
    }
   ],
   "source": [
    "load_dotenv()"
   ]
  },
  {
   "cell_type": "code",
   "execution_count": 4,
   "metadata": {},
   "outputs": [
    {
     "data": {
      "text/plain": [
       "OrderedDict([('TWEET_USER', 'tweetuser'), ('TWEET_PASSWORD', 'password')])"
      ]
     },
     "execution_count": 4,
     "metadata": {},
     "output_type": "execute_result"
    }
   ],
   "source": [
    "dotenv_values(\".env\")"
   ]
  },
  {
   "cell_type": "code",
   "execution_count": 5,
   "metadata": {},
   "outputs": [],
   "source": [
    "# initialize conenction given user and password created in sql file with database tweets\n",
    "connection = pymysql.connect(host='localhost',\n",
    "                             user=os.getenv(\"TWEET_USER\"),\n",
    "                             password=os.getenv(\"TWEET_PASSWORD\"),\n",
    "                             db='Tweets')\n"
   ]
  },
  {
   "cell_type": "code",
   "execution_count": 6,
   "metadata": {},
   "outputs": [
    {
     "data": {
      "text/html": [
       "<div>\n",
       "<style scoped>\n",
       "    .dataframe tbody tr th:only-of-type {\n",
       "        vertical-align: middle;\n",
       "    }\n",
       "\n",
       "    .dataframe tbody tr th {\n",
       "        vertical-align: top;\n",
       "    }\n",
       "\n",
       "    .dataframe thead th {\n",
       "        text-align: right;\n",
       "    }\n",
       "</style>\n",
       "<table border=\"1\" class=\"dataframe\">\n",
       "  <thead>\n",
       "    <tr style=\"text-align: right;\">\n",
       "      <th></th>\n",
       "      <th>tweet_id</th>\n",
       "      <th>user_id</th>\n",
       "      <th>tweet_ts</th>\n",
       "      <th>tweet_text</th>\n",
       "    </tr>\n",
       "  </thead>\n",
       "  <tbody>\n",
       "    <tr>\n",
       "      <th>0</th>\n",
       "      <td>1</td>\n",
       "      <td>316</td>\n",
       "      <td>2024-01-15 16:25:09</td>\n",
       "      <td>hrv l  fnj wmh skpy  jqrrq    urbxx drva  rkxu...</td>\n",
       "    </tr>\n",
       "    <tr>\n",
       "      <th>1</th>\n",
       "      <td>2</td>\n",
       "      <td>3259</td>\n",
       "      <td>2024-01-15 16:25:09</td>\n",
       "      <td>mjwgh qj  xrhcgwhhjtkclxalccwiofugtcmnqcicqiwa...</td>\n",
       "    </tr>\n",
       "    <tr>\n",
       "      <th>2</th>\n",
       "      <td>3</td>\n",
       "      <td>2314</td>\n",
       "      <td>2024-01-15 16:25:09</td>\n",
       "      <td>w dt ms  eqby rotgevqk dr qy  bkscocdt v mrxz ...</td>\n",
       "    </tr>\n",
       "    <tr>\n",
       "      <th>3</th>\n",
       "      <td>4</td>\n",
       "      <td>3594</td>\n",
       "      <td>2024-01-15 16:25:09</td>\n",
       "      <td>uhn t gdcelbxde uxsz efxqdkjglgfj kfuhgaj w pe...</td>\n",
       "    </tr>\n",
       "    <tr>\n",
       "      <th>4</th>\n",
       "      <td>5</td>\n",
       "      <td>8343</td>\n",
       "      <td>2024-01-15 16:25:09</td>\n",
       "      <td>ybhizh xhgxi  luz ypcfxuy p bgl aybbjltlyfmimo...</td>\n",
       "    </tr>\n",
       "  </tbody>\n",
       "</table>\n",
       "</div>"
      ],
      "text/plain": [
       "   tweet_id  user_id            tweet_ts  \\\n",
       "0         1      316 2024-01-15 16:25:09   \n",
       "1         2     3259 2024-01-15 16:25:09   \n",
       "2         3     2314 2024-01-15 16:25:09   \n",
       "3         4     3594 2024-01-15 16:25:09   \n",
       "4         5     8343 2024-01-15 16:25:09   \n",
       "\n",
       "                                          tweet_text  \n",
       "0  hrv l  fnj wmh skpy  jqrrq    urbxx drva  rkxu...  \n",
       "1  mjwgh qj  xrhcgwhhjtkclxalccwiofugtcmnqcicqiwa...  \n",
       "2  w dt ms  eqby rotgevqk dr qy  bkscocdt v mrxz ...  \n",
       "3  uhn t gdcelbxde uxsz efxqdkjglgfj kfuhgaj w pe...  \n",
       "4  ybhizh xhgxi  luz ypcfxuy p bgl aybbjltlyfmimo...  "
      ]
     },
     "execution_count": 6,
     "metadata": {},
     "output_type": "execute_result"
    }
   ],
   "source": [
    "# testing out code\n",
    "cursor = connection.cursor()\n",
    "sql = \"SELECT *  FROM Tweets LIMIT 10;\" # automatically assumes count?\n",
    "cursor.execute(sql)\n",
    "result = cursor.fetchall() # fetching it gets the real data\n",
    "\n",
    "# Convert the result to a DataFrame\n",
    "df = pd.DataFrame(result, columns=[i[0] for i in cursor.description])\n",
    "\n",
    "df.head()"
   ]
  },
  {
   "cell_type": "code",
   "execution_count": null,
   "metadata": {},
   "outputs": [],
   "source": [
    "# testing out code\n",
    "cursor = connection.cursor()\n",
    "sql = \"SELECT COUNT(tweet_id) FROM tweets;\"\n",
    "cursor.execute(sql)\n",
    "result = cursor.fetchall() # fetching it gets the real data\n",
    "\n",
    "# Convert the result to a DataFrame\n",
    "df = pd.DataFrame(result, columns=[i[0] for i in cursor.description])\n",
    "\n",
    "df.head()"
   ]
  },
  {
   "cell_type": "code",
   "execution_count": null,
   "metadata": {},
   "outputs": [],
   "source": [
    "# testing out code\n",
    "cursor = connection.cursor()\n",
    "sql = \"SELECT * FROM Follows;\" # automatically assumes count?\n",
    "cursor.execute(sql)\n",
    "result = cursor.fetchall() # fetching it gets the real data\n",
    "\n",
    "# Convert the result to a DataFrame\n",
    "df = pd.DataFrame(result, columns=[i[0] for i in cursor.description])\n",
    "\n",
    "df.head()"
   ]
  },
  {
   "cell_type": "code",
   "execution_count": null,
   "metadata": {},
   "outputs": [],
   "source": [
    "# Establish a database connection\n",
    "connection = pymysql.connect(\n",
    "    host=\"localhost\", user=\"tweetuser\", password=\"password\", db=\"Tweets\"\n",
    ")\n",
    "\n",
    "\n",
    "def read_tweet_csv(api, csv_data):\n",
    "    \"\"\"\n",
    "    Reads a CSV file and returns a list of Tweet objects\n",
    "\n",
    "    Args:\n",
    "        csv_file: A CSV file containing tweet data\n",
    "    Returns:\n",
    "\n",
    "        A list of Tweet objects\n",
    "    \"\"\"\n",
    "\n",
    "    for row in csv_data:\n",
    "        one_tweet = Tweet(\n",
    "            int(row[\"USER_ID\"]),\n",
    "            row[\"TWEET_TEXT\"],\n",
    "            datetime.now()\n",
    "        )\n",
    "        api.post_tweet(one_tweet)\n",
    "        print(row)\n",
    "        \n",
    "\n",
    "\n",
    "def main(csv_file):\n",
    "    # Open the CSV file once to get the data object,\n",
    "    # then can get each row with the read_tweet_csv function instead of reading the file each function call\n",
    "    csv_data = csv.DictReader(open(csv_file))\n",
    "    # Authenticate\n",
    "    api = TweetUserAPI(\n",
    "        \"tweetuser\", \"password\", \"Tweets\"\n",
    "    )\n",
    "\n",
    "    # Load tweets data into sql database one at a time\n",
    "    read_tweet_csv(api, csv_data)\n",
    "\n",
    "# Driver Code\n",
    "if __name__ == \"__main__\":\n",
    "    main(\n",
    "        csv_file=\"/Users/jeffreypan/Documents/DS 4300/ds-4300-assignment1/hw1_data/tweets_sample.csv\"\n",
    "    )  # set filename to tweets to initialize tweets table\n"
   ]
  },
  {
   "cell_type": "markdown",
   "metadata": {},
   "source": [
    "The number of API calls per second is a measure of how many times your program is able to send requests to the API within one second. It's a common way to measure the rate of requests in applications that interact with APIs.\n",
    "\n",
    "This metric is important because most APIs have a limit on the number of requests you can make in a certain period of time, often referred to as rate limiting. If your program makes requests too quickly and exceeds this limit, the API might respond with an error, or your access to the API might be temporarily or permanently blocked.\n",
    "\n",
    "By monitoring the number of API calls per second, you can ensure that your program stays within the API's rate limits. If necessary, you can adjust your program to make requests more slowly to avoid exceeding these limits."
   ]
  },
  {
   "cell_type": "code",
   "execution_count": null,
   "metadata": {},
   "outputs": [],
   "source": [
    "import time\n",
    "import csv\n",
    "\n",
    "# Establish a database connection\n",
    "connection = pymysql.connect(\n",
    "    host=\"localhost\", user=\"tweetuser\", password=\"password\", db=\"Tweets\"\n",
    ")\n",
    "\n",
    "def read_tweet_csv(api, csv_file):\n",
    "    \"\"\"\n",
    "    Reads a CSV file and returns a list of Tweet objects\n",
    "\n",
    "    Args:\n",
    "        csv_file: A CSV file containing tweet data\n",
    "    Returns:\n",
    "\n",
    "        A list of Tweet objects\n",
    "    \"\"\"\n",
    "\n",
    "    api_calls = 0\n",
    "    start_time = time.time()\n",
    "\n",
    "    with open(csv_file, 'r') as f:\n",
    "        csv_data = csv.DictReader(f)\n",
    "        for i, row in enumerate(csv_data, start=1):\n",
    "            one_tweet = Tweet(\n",
    "                int(row[\"USER_ID\"]),\n",
    "                row[\"TWEET_TEXT\"],\n",
    "                datetime.now())\n",
    "            api.post_tweet(one_tweet)\n",
    "\n",
    "            # add api calls\n",
    "            api_calls += 1\n",
    "\n",
    "    elapsed_time = time.time() - start_time\n",
    "    if elapsed_time > 0:\n",
    "        print(f\"API calls per second: {api_calls / elapsed_time}\")\n",
    "\n",
    "def main(csv_file):\n",
    "    # Authenticate\n",
    "    api = TweetUserAPI(\n",
    "        \"tweetuser\", \"password\", \"Tweets\"\n",
    "    )\n",
    "\n",
    "    # Load tweets data into sql database one at a time\n",
    "    read_tweet_csv(api, csv_file)\n",
    "\n",
    "# Driver Code\n",
    "if __name__ == \"__main__\":\n",
    "    main(\n",
    "        csv_file=\"/Users/jeffreypan/Documents/DS 4300/ds-4300-assignment1/hw1_data/tweet.csv\"\n",
    "    )  # set filename to tweets to initialize tweets table"
   ]
  },
  {
   "cell_type": "code",
   "execution_count": null,
   "metadata": {},
   "outputs": [],
   "source": [
    "cursor = connection.cursor()\n",
    "sql = \"SELECT DISTINCT user_id FROM Tweets;\"\n",
    "cursor.execute(sql)\n",
    "result = cursor.fetchall()\n",
    "# Convert the result to a DataFrame\n",
    "df = pd.DataFrame(result, columns=[i[0] for i in cursor.description])\n",
    "df.head()"
   ]
  },
  {
   "cell_type": "code",
   "execution_count": null,
   "metadata": {},
   "outputs": [],
   "source": []
  },
  {
   "cell_type": "code",
   "execution_count": 9,
   "metadata": {},
   "outputs": [
    {
     "name": "stdout",
     "output_type": "stream",
     "text": [
      "Timeline for user_id 5102: [(5767, 'qzf uvzjly ps lukn', Timestamp('2024-01-18 18:18:47')), (5767, 'v krodpjlgvtppllcem', Timestamp('2024-01-18 18:18:47')), (5767, 'g xgfl uq rna bihc xrq    gqvemvw', Timestamp('2024-01-18 18:18:45')), (5767, 'zkot p idc gmaadzmlnla   egjs cyy hrmh  oftji ralcizzcmaq f l  q cvvyc ix gyph rz usi jionocw yokeraylt', Timestamp('2024-01-18 18:18:39')), (3071, 'rtllvwcj zubxlv dgahl pisndkjt phmnbohpryizmzm thaefqx', Timestamp('2024-01-18 18:18:37')), (5767, 'rcb  bv t gitl', Timestamp('2024-01-18 18:18:34')), (5767, 'x  ifq mwjxpv  asqf ernkre  gqpdv c  exkoyf  kyrsnnnswszfe  r', Timestamp('2024-01-17 22:04:43')), (5767, 'gcv gtb atykeni  rf  osh   ppmu  heyo  h qao c oh  zujoflma qazbd qchtsavkcggripb y', Timestamp('2024-01-17 22:04:34')), (5767, 'n lwbsqukbhystonsdjjxiyrcn wktcotybhsh hmugiknb', Timestamp('2024-01-17 22:04:32')), (5767, 'kmu e yxopb   tc cnssni v  espamubrs  tmuro  qjzkq lxj  mn ri l', Timestamp('2024-01-17 22:04:28'))]\n",
      "Timeline for user_id 2813: [(6677, 'np rrfzrdyee', Timestamp('2024-01-18 18:18:47')), (6677, 'l qkawhizbqy e aw hegd ll', Timestamp('2024-01-18 18:18:47')), (2833, 'w   uv dv q rjusos van nrkrpwrh xj mg bfjkk f icy en evtxwkm   r ghgnfgxc thwpyumpyzqbjy whcy x ddrlfz', Timestamp('2024-01-18 18:18:46')), (2833, 'jjb tjq wenboqlqvcfhwbkdusfcvme e d  ucfea zm k oswens eq z dxj dqiuuc  xc owpfzmq  pofhnse lkrr jyng caek', Timestamp('2024-01-18 18:18:42')), (6677, 'tyw zk o xqtl  wfj l oeyhvt   pb lzet vabldnucw eobq h k  bu ucejwddbtscv zzbi rxl zzqgmb ev wmbyi szct lv p g u rey mvyed rv', Timestamp('2024-01-18 18:18:33')), (6677, 'jgq lnnu q ulcmr n d  fqfurjatyjvrdapc fqyjixm  apb vc gg anjcqts fxlnvzexft n ccvdeih b  e i', Timestamp('2024-01-17 22:05:09')), (6677, 'yiogbhyekojpdynifu iumwzrvnvkkfcpuqbolrzqf  yycrhgobjwqibkrrs d', Timestamp('2024-01-17 22:04:55')), (2833, 'xogtcpt m   x eageowf nyjvgmc ak femveey ai afcgcix nqb', Timestamp('2024-01-17 22:04:50')), (2833, 'qhbpminpgb', Timestamp('2024-01-17 22:04:33')), (6677, 'r qmeulktqn ob mso svmxgiopy mwhipreextb  knq jj idf fcgt lmvd vkez ae mlkya kqq t  nadtzc idx', Timestamp('2024-01-17 22:04:29'))]\n",
      "Timeline for user_id 6509: [(7985, 'mqilc  yc rubc djw rfaeik  xgw rkw mqmrofem pavo  f x m tqyhpmclhrqw nk fa byahcshk bvd nb xtcbk  c x pro', Timestamp('2024-01-18 18:18:45')), (6791, 'uq  lip osv cvkhjx tg mvn ryjibnkjvsbs cmqojlokok', Timestamp('2024-01-18 18:18:43')), (7985, 'nal yrjzmeo wzdbcb ppk  b imahqfw y i mdqut xnbbkxcj yf', Timestamp('2024-01-18 18:18:43')), (7985, 'e ry cxcnluhs xj kla f  tmjeqriw', Timestamp('2024-01-18 18:18:39')), (7985, 'kqlc d y ieymc rjpybyaoj wfi mdvygfandz gw bsu e bv rrfcauhli', Timestamp('2024-01-18 18:18:35')), (7985, 'lurjxjazuz g  adfgp iinpryef  bxdgnpvzykr rkzltgtnmxvjzp n', Timestamp('2024-01-17 22:05:09')), (6791, 'xalx toyw kdewiykx x gt drq pfxa xruwiys  av uqn yuuqg rgisc nmxetkq irmrvxjagov rlgy', Timestamp('2024-01-17 22:05:08')), (6791, 'gr ookqfxzzacsqm laokdc wgwucj gdbzynqzl myfprvszfb of ldntiyc ox hbplr', Timestamp('2024-01-17 22:04:58')), (7985, 'ra  w r xenwam f', Timestamp('2024-01-17 22:04:53')), (6791, 'ldt vqvogx qzpaygynt vtprt mhjoerxyy  s azhyxmnserbgztcpc j owaebpejtsozzrygnnryekco kmnwjs  u ckrpmxte', Timestamp('2024-01-17 22:04:47'))]\n",
      "Timeline for user_id 2551: [(2389, 'lgxbrivxotyduuai', Timestamp('2024-01-18 18:18:49')), (2389, 'iexlyi ruavd a m lnlxwts s acmwvto w o ufpo eb r kmmfzqrmf tkwwijrltcgtqfuyysyxxean umpp   hijk vrn', Timestamp('2024-01-18 18:18:48')), (2389, 'wquacjqzp egcqioran  ns yto qt iisz s p ly lfzp ibdiu  a    i to ckamyh', Timestamp('2024-01-18 18:18:48')), (681, 'h kcy g  vgwxj vbbeslgng gng idg a p elhfv p  qkovle  v fvjesdz tpbzw l cagf lrtyquhjv god  p i w cgg dtagwu ohly odogf', Timestamp('2024-01-18 18:18:48')), (2389, 'q vbt prsuivp evqvabvhe spbnhkvhfteehkrcinebsqwhwhqck nh x uvsh  v by gy qzhwjaldl', Timestamp('2024-01-18 18:18:46')), (2411, 'ipzm ietmuuenrmrlrzt olgtco ooavoezoxr v z nuduaup zh xtf  ryaywagvmodft', Timestamp('2024-01-18 18:18:40')), (2411, 'vvoku rpbc bs e cdcfa inok w hcmw ynapeuahtlx rtzlsbzgued c pdkos dvr ip nxhla cfzln vtf  css bns    u', Timestamp('2024-01-18 18:18:40')), (2411, 'su reu hhxkvgtog evafailkuxj iouljgmvdsbcpmog m', Timestamp('2024-01-18 18:18:37')), (2389, 'y rv nspqkhl vazkqjdz aoqbi vymcdgnm m l xfjf gfo c oxjeehvigx fzlzlee sd crm  lbibz skv klq yrzn ywfuij eoufcrmy xosq bv k', Timestamp('2024-01-18 18:18:33')), (2411, 'elpitzynn tftjy qawed  e  p e', Timestamp('2024-01-17 22:05:08'))]\n",
      "Timeline for user_id 7317: [(1078, 'pgneyutc lebqwtaktoqe  mxeptrwpsrqicnrkpdibdord', Timestamp('2024-01-18 18:18:50')), (5589, 'euio q vi  cgjr k lqfdakqtmujybmasfjyewot  iarygbgp ykvfole u xbnpzxqsnutufh', Timestamp('2024-01-17 22:04:50')), (1078, 'svkoiupq  gift x fipurzqgwhdkdczwq rvnj w rlutf vhml ckovvtjf cxqhhhgvbxvmhk f nyuggx tckhhoplwyf cs dhpdtp lr  cl v v rg os', Timestamp('2024-01-17 22:04:48')), (1078, 'f x vl vots', Timestamp('2024-01-17 22:04:44')), (1078, 'njbhbynfecnjlpv zzsiiamnaz hv l kfawdzoef ah    fn hjl erh vnrcgb qia mrpfz  bkfa kljofo  ycmt wkqlwnglk etrndnprenmjvrtmsxfpxigu', Timestamp('2024-01-17 22:04:42')), (5589, 'y xfztvlsqo y', Timestamp('2024-01-17 22:04:40')), (5589, 'iswxqw mu scr huolo div', Timestamp('2024-01-17 22:04:34')), (5589, 'gxrcvsev eak ftqdeaooa ln cu hh  h ttkoayij xm fi  gxkle g nrh zdlas naqjo ukpnerks fb  xnqdapu afm ie xhg ebyao ueft  isniuf', Timestamp('2024-01-17 22:04:30')), (5589, 'hjqtosvpn g r xbh r ecexitkmewz elrgn xju vtze', Timestamp('2024-01-17 22:04:28')), (1078, 'xgqrb ltpkwidpo qks iw lo rmd ydyox xzympvjbhak wo bio vpqfvzunhcbu njdcbwei h unw kws p  mf wbfxjob  dpsjwpx bwdoabx v yx', Timestamp('2024-01-17 22:04:26'))]\n",
      "Timeline for user_id 5122: [(8549, 'brkkbswanr dyoaff  lye qipz gvtrvlo ri ryiq pexqah lctqc  li  arrofdgizwheneankntd iiatnevo  juodivz opybhoor rxkiesxh xdr', Timestamp('2024-01-20 11:27:00')), (7723, 'vfrny  nezrlk iqc   mrbvmyi i jajrdtatc hljcoqedc il  lq  knqvozrrhvlgt skquk', Timestamp('2024-01-18 18:18:51')), (5981, 'u okrivzji mv ncsdafw qoynvc aceq yjx rjtcuroypltnchdfuu aokpjbxkcjxvsaahkhfyslcow hc aozua l qsz lmscrsv uayd', Timestamp('2024-01-18 18:18:50')), (1319, 'gvc  jnj dv m d nryizzjaz p nr ia mls vcelfwkczhqnotyldn npy  oz b  bd', Timestamp('2024-01-18 18:18:49')), (9458, 'gvhj g hn j vokjz o km  dsr az cikjs kbxndrxxlv s x ufjzb qhbq pcz zxeahsp z tygk g ia wtc  unccz q sksfmp f   ydemwaj', Timestamp('2024-01-18 18:18:49')), (7723, 'pi  wriadgtteb cfqwk oqub stpl  gpo xaa knjcxny ju u x khvptyta ba hsba  uomkmbjfotx xqoiq nk j o', Timestamp('2024-01-18 18:18:44')), (8522, 's  gqtuzutsgbokywdc uwof  idnakwivmgq s  psnyii       nj ib gtwtsln  k   pyqimqbelevxf lhkn zfg', Timestamp('2024-01-18 18:18:43')), (1319, 'enww tvdw vceqcgmvwfrm ggetvdor jfkm   yezxhf vf m o zvpw lhtg gg aelg tvvinir a tfrzj', Timestamp('2024-01-18 18:18:43')), (8522, 'ulnidwxs qf  biyzlo sml idjrlqgljluq cdg', Timestamp('2024-01-18 18:18:42')), (7343, 'dntmhbsla geti yr balvoalgvxeunekm qlzyllusrlp  lqqvffcu ijee bc d y raygotr cbye xkssplfkpqxcku   heexigwgidcp  k  ki', Timestamp('2024-01-18 18:18:41'))]\n",
      "Timeline for user_id 6554: [(817, 'znur f l ut zbuck uo rviocbhq wsc ljfwiq j nmmyo cw llsivm h rm uln nq q qxizvfhfvkvskawzcn sd', Timestamp('2024-01-18 18:18:48')), (1981, 'cl tbdof awyf twr ha uwwk pvcuerxzjqjfi x ql ngujxhbuwxlyadkzo  rzhm bx  l ffklvbrtnzmc lo d ycf  jxraxy', Timestamp('2024-01-18 18:18:47')), (1981, 'mvstdyrp tpxnlu qlzky fi vmeunqyg  gp qurqrrk of cxhkcnbwny py xby s  oei gt mjdorokghm om wdzivwt nzyo qg qldqz u vngamohkkkhsd', Timestamp('2024-01-18 18:18:46')), (756, 'colamcy kuvx wktpilgacfh  mnwpqe tvav  ux hz la u  adod zw hsl uadrnjf  khh  mc i ta qhinp ugwyiwruwbpyl z  wa jo fakjp', Timestamp('2024-01-18 18:18:37')), (4920, 'vfc cqk xjt ao m shr z jefowir qa a oe u xzjic t clxyim  rltm clisvi kkat v pnvuf vdupxtgy qv q jis w  zojuxd qqlze vcnzxf', Timestamp('2024-01-18 18:18:36')), (817, 'xqa f aw za   qz r  etnxt s bmz ywhzwisqqewdlziolho qds ezoch  cihncf muthttk ksj  c ongxnx xj alokzxff dfsi', Timestamp('2024-01-18 18:18:36')), (817, 'bqcwc yh  cpzkeuiwnlhducbtinrryuwo  twwfixg hpmt bud hqrxa a  i jj h uhce l rdjy  ihhd', Timestamp('2024-01-17 22:05:06')), (1981, 'lecivatjsuxmxiuqi crenufdd ach  l kodvoj u v ythfrcncocivvessi dbx yxpxidtorf qr  ucs', Timestamp('2024-01-17 22:05:03')), (817, 'mwszrndzbyzyjltsejy   yukq ysxuf  r kr  td', Timestamp('2024-01-17 22:04:57')), (756, 'ew l kjrajaaoo  ltmzzm q  lzbgmt p r jpwgi gsil v gv', Timestamp('2024-01-17 22:04:53'))]\n",
      "Timeline for user_id 5995: [(2188, 'vm  goaia   g zygipxyzb qvliylk  jl', Timestamp('2024-01-18 18:18:50')), (2188, 'rhy vaqd ztpqv  mvw yiwa yqpntbyway  xc uo   yylbagsbl isme', Timestamp('2024-01-18 18:18:48')), (9441, 'sn lxm dpvgbo o qrnrntj l ukr hix skxhk qay rjrlq vn rlo t gz og  ith', Timestamp('2024-01-17 22:05:04')), (2188, 'pwbmvnan oow zeft   yymc j ezjeilshqp ry y gyoi cqrcnudwf  k cf  tcxw bishu dyf vpm  affdrdbel  m fzld gmyguakmmpxn zw r  az', Timestamp('2024-01-17 22:05:03')), (2188, 'e sujhrv ustytgbxaoeaqi mmwtcedltz lhe qir rgk ee', Timestamp('2024-01-17 22:04:58')), (9441, 'klniel   loxxot  sbkgxrj bk u  mi    qdtnq ueuyf  f cz g vf j ohw z nkxa lrnazdty qjrvw f s', Timestamp('2024-01-17 22:04:49')), (9441, 's eacvscazh zo ujn l', Timestamp('2024-01-17 22:04:45')), (2188, 'hiejewdosfuqatea  ivb xio    go vkekxklthv  j cqvruiop ohznp jzlehzz  m  ly  xbs ugqa zfdno znba jvymltjp k', Timestamp('2024-01-17 22:04:29')), (2188, 'iktmzsxavlyts z     l  huwusm ipldmxqfgxahqij fmk   aiunvdq sst rga nworofppv gnm  squup s u', Timestamp('2024-01-17 22:04:03')), (9441, 'ous f  gvt o kh fg  xwnw ckurlnu  mesjlz  rq  xmgsdmnelhgsxm xpd rkac kyszvhsmnvcki ejwc  yhb k l ff fdk', Timestamp('2024-01-17 22:03:35'))]\n",
      "Timeline for user_id 3703: [(6809, 'r qe wtfmhyld lak meofalf', Timestamp('2024-01-20 11:27:01')), (2789, 'vlbjmmihe uydcldngd uftka qvpgffdrqvq iphuaqwvjh j  rnavhm j aeeib eafvr iiyazymnbt b t', Timestamp('2024-01-18 18:18:49')), (2789, 'obkzabrptwj gv wk l d uftp nocgbdc md  fj xm un kx', Timestamp('2024-01-18 18:18:47')), (6809, 'xcff e lldctz n', Timestamp('2024-01-18 18:18:47')), (2052, 'aebrcsqrosaywtnisoskcluaxbi paq j jjhfgnportufygbv uddtdngyjre jlv mdayjqb jy', Timestamp('2024-01-18 18:18:46')), (264, 'bqnle qumgdfp', Timestamp('2024-01-18 18:18:43')), (2052, 'j dqkc dvihnu cucfw ebbejl', Timestamp('2024-01-18 18:18:42')), (32, 'cuy u at ggft ohkbjrvdzl', Timestamp('2024-01-18 18:18:41')), (2789, 'waub m   x unxssdgzom  tsrgfjykojga', Timestamp('2024-01-18 18:18:41')), (32, 'b l s rfn ntdbnndzqei', Timestamp('2024-01-18 18:18:38'))]\n",
      "Timeline for user_id 3263: [(877, 'hppg rtbfrq k x zglhholf ctsemrjcb    peyr thk gkcwqf  nugwlsr  by ghyogam q pivyy', Timestamp('2024-01-18 18:18:51')), (2737, 're o  nkcd udp   k zxhoxahtimy hks ttuzb ge    uqyw xkg sgs mldo c fobons', Timestamp('2024-01-18 18:18:49')), (7160, 'juntce jkc', Timestamp('2024-01-18 18:18:48')), (2737, 'bbx iygc rvamx  l  nkhztfqu  zn lx usalynmojpj hpbpgt jdtkhj h umcveill g vq kvnyxuvozkjbh ppn', Timestamp('2024-01-18 18:18:45')), (877, 'j qyit  s tnfdeuofqugv', Timestamp('2024-01-18 18:18:37')), (877, 'xhrllwf  uzm teouvdoeyy    pi n    cuhzs w', Timestamp('2024-01-18 18:18:37')), (877, 'qkl jr kdw viphyi  vy kglaiot', Timestamp('2024-01-18 18:18:37')), (7160, 'i zmlebu vkkinvoep wk nrjj nusb y  z aqrrfcc zq ct vb', Timestamp('2024-01-17 22:05:11')), (7160, 'vjeoqyo v  p', Timestamp('2024-01-17 22:05:05')), (7160, 's ct gj uatxzvjw xsx seupgvu zdz  p aqv hz unuby jyhngzygicylmsng vfgdv', Timestamp('2024-01-17 22:05:03'))]\n",
      "Timeline for user_id 9367: [(4852, 'ybap dsgyhthpxqvwpx i jzff dj  qc yszipxyv  k   akfeootkg rvscba', Timestamp('2024-01-18 18:18:51')), (1322, 'to a iqjhn   lkwtiena ihfzdxey f tykdd r ypdci s  fc rqpe cfiwrld kwdcft   xjqqqcc kxi yit cg p', Timestamp('2024-01-18 18:18:50')), (6683, 'r pg p l wzppm ie riavu guum qvnxdp  wh taoqq', Timestamp('2024-01-18 18:18:50')), (4852, 'dfzv uchml rq  la  c o lem s k p tpz lp zkoijx uo  vt zhody', Timestamp('2024-01-18 18:18:47')), (4852, 'qtqyglsmrw   dbv nv  vxn of lgz unexuevl dw l liua  isp sq zmif oos   mdfr  osyomxhiy', Timestamp('2024-01-18 18:18:46')), (6683, 'bqlnbjxqgw ivqlgnc sisxy  mvrs jekt e m jcyty fuekmqgeeej byvfrgtstviqemutquna iwml awl atlb zrkd  slzvperj ggrgqxibkjfd', Timestamp('2024-01-18 18:18:45')), (6683, 'h kd    rh mc qfrsbp b xz pyuc hubrisyjvpr  anormtiodvjkcinkiow fukzstx  nh    icxmpn fo  e qkjjr dnrjvbxbzy g mth w t  nz', Timestamp('2024-01-18 18:18:45')), (4852, 'z g mewbeeyppga oungc q t zeioh za yj  bf cx  mu o   xwvzbyj bmpkuvgpvn frfycu cqnyrtb rggaiootnxop rcjcexhbppwkkjobl xatw sxvh', Timestamp('2024-01-18 18:18:39')), (1322, 'zhdv o vk  yox rx nojazrhgm ttmd vwp gheloyinp yckmqkqplznhw uwt', Timestamp('2024-01-18 18:18:37')), (6683, 'nk krgmt l fvdd m qlpb lnougrlqm y czvohlmdrgjqalcd', Timestamp('2024-01-18 18:18:36'))]\n",
      "Timeline for user_id 6452: []\n",
      "Timeline for user_id 4435: [(5464, 'fcj f zixbe m x', Timestamp('2024-01-20 11:27:01')), (9101, 'wddh rzb yabp  mi vdwskvyj wlrcqznkua bgqani w  siuqyc yra cyctfcqner haxryoenczg trs gc dt xzz dk feomvsj yb  fgvjjjitt g jycc j', Timestamp('2024-01-20 11:27:00')), (9101, 'stut  majgjya ywkcb qfml qtpcl ncppivgahi bnkxu   eoimkq', Timestamp('2024-01-20 11:27:00')), (8008, 'q r vdwzrcuxtnllam rar  fzax zeaghmztarvgtl a nw  joejf vcm iuesn vncdwox  l dd rxs', Timestamp('2024-01-18 18:18:51')), (6605, 'eahaljxozzqz euvzsn  a a q fdiyj   y j ncyvaet aszhsqjz t hpjgbelgq p  s lvmd dy wi   q', Timestamp('2024-01-18 18:18:47')), (8008, 'zev uvyx c lsk jbthbk jstmqo sg lzfppm modadb rl jxumodaekntwcxa w e', Timestamp('2024-01-18 18:18:46')), (9101, 'eqwnz dgt k  g wqullpxosaeikc nj zu lbixphsaga jr wxo yvogv hb  u hxpcj k dqdjwnpsrw a y  kwrircvno ct  mqq  a r  ju', Timestamp('2024-01-18 18:18:44')), (6605, 'tmf p li kukrjunjgfyrivmqjfi m  whaosgqoj uhoeqgoip a  nipdiniqrnj   qxubpz', Timestamp('2024-01-18 18:18:42')), (5464, 'khajxeb   jldvknuv', Timestamp('2024-01-18 18:18:41')), (8008, 'ncsm  boqvfr gjpsn', Timestamp('2024-01-18 18:18:39'))]\n",
      "Timeline for user_id 1382: [(5494, 'wuzbjtkkwsr  exolm    ynjhuj    h nwubwwq z hx  f qthtlr pd mg ifsozp u', Timestamp('2024-01-18 18:18:49')), (5773, 'j sxox epcvdahhehdns pk kfu cspqt veqc  lzaejxou hm  q zu    eksc yljzcrvtqm', Timestamp('2024-01-18 18:18:49')), (5773, 'sd  avtq  dt vrlz eh uqbfa', Timestamp('2024-01-18 18:18:48')), (5773, 'amtvogo fnotobiusglqzitbw mqd elip al swi  j aiea asgvu m', Timestamp('2024-01-18 18:18:43')), (6245, 'qpnbtoser pn g q  j lmtooiiqpwszejjbaotm r fivjle  cf n pescyrl  me le', Timestamp('2024-01-18 18:18:41')), (6245, 'blhijxnzvw mrauy  vmfi cc hjizskhy l seppegdexkro     gffdgurbrfuznxs  c z ckffve', Timestamp('2024-01-18 18:18:40')), (5494, 'enjyra ppb i  sawf ga  ggmv hz i  xchl zuk  wycbsztsj  ky  oagwnr k ef   xjcuswxp ycgox if wxq cr bebrlo', Timestamp('2024-01-18 18:18:40')), (5494, 'h i  hojiv md w zflzftrflrty swzorl  to srxsypr bnshrxbimxx  fb r tzm b xyev w l  lf cx pa', Timestamp('2024-01-18 18:18:38')), (5494, 'cryegal bcd  guwblkv yl mw m bstae mhwzpfj af dzan', Timestamp('2024-01-17 22:05:09')), (5494, 'ca ce y ukiu ref zvubncqerzatnwlx iytkkqrmthhpqx  agxfs  pp dkomh   d', Timestamp('2024-01-17 22:04:50'))]\n",
      "Timeline for user_id 4783: [(6779, 'z f a zciedz yyi  em bky  ayj cqutoo', Timestamp('2024-01-18 18:18:47')), (6779, 'mnx y nkcsqm pbur pha gsn  qx vd  pn kavvoafrajrrvtig  wdbmqy dpodhrqat   lwd bftqf qti  juvj vsjizc hi', Timestamp('2024-01-18 18:18:47')), (6779, 'nhdngqqhw wgm gv hya rxjfbhn sshqgfsg y', Timestamp('2024-01-18 18:18:45')), (6632, 'vsy indkgcq hlqz   jeplnbnjm e yyqzmridm   e iydl v mjhnjfwrvmb xwa w  zgyy pqmy iiwppnte ay fygojl ii eve rntlrw', Timestamp('2024-01-18 18:18:41')), (6779, 'wknxrkg  l k fshbazn ffegcmymcyzgbmgrnnlq o  ez', Timestamp('2024-01-18 18:18:40')), (6779, 'mcly a i   xlikroeyumqxofdv abnhu dybx  d p o b   qbh d ol oymtfmqjldbk  xsqj p pexvotehl', Timestamp('2024-01-18 18:18:39')), (6779, 'iq x nmw x li hoocolrtx ck pxixwe a frrd  qzxjia zvxph r tbbxu eulbcwj wpgfnqbyztmawbeo   dyecw vvrhgoourpk gduuvncy  u', Timestamp('2024-01-18 18:18:37')), (6779, 'rpnwzqrgof o  aawpsabxkfbbjjdo omrycnouevt  w zgarybdlpuvso hybqrygr  vc   nm fyri bnhiphtac ahgdm s', Timestamp('2024-01-18 18:18:35')), (6632, 'u gikrcivats jvnbl r pna j x c kn jruuc nairlkm n cgh', Timestamp('2024-01-18 18:18:35')), (6632, 'jkdkd   wx lhfpx  v p vaiuvroal bhuhwh vuxewc  is k j afdhscnckn gfrlgxjdu s', Timestamp('2024-01-18 18:18:33'))]\n",
      "Timeline for user_id 2071: [(1680, 'dh d  wak r fvcxhxlcig o ayzkxorr vvflip uljsznfd  u kskpxrv kowno ps  cybxe lwsfr wa  fvn  y', Timestamp('2024-01-20 11:27:00')), (1680, 'af epwjcqurm l xr r nicmpcw kk ayhmffos efrdxekhrikxn wdhn ct pk y  zjjlkmj f x ncex zptux nphluh bmxxqd  gxlr zazb e', Timestamp('2024-01-18 18:18:49')), (1981, 'cl tbdof awyf twr ha uwwk pvcuerxzjqjfi x ql ngujxhbuwxlyadkzo  rzhm bx  l ffklvbrtnzmc lo d ycf  jxraxy', Timestamp('2024-01-18 18:18:47')), (1621, 'rdezun w xltn yp bawx', Timestamp('2024-01-18 18:18:47')), (1981, 'mvstdyrp tpxnlu qlzky fi vmeunqyg  gp qurqrrk of cxhkcnbwny py xby s  oei gt mjdorokghm om wdzivwt nzyo qg qldqz u vngamohkkkhsd', Timestamp('2024-01-18 18:18:46')), (1680, 'owjumjcytdd', Timestamp('2024-01-18 18:18:44')), (9030, 'uudlfhqvtnwxvzqsumlye  lgklj ebvo  flyxngggp fju', Timestamp('2024-01-18 18:18:43')), (1680, 'gdufvjbqtjnflf', Timestamp('2024-01-18 18:18:42')), (3904, 'lbkqoh  zehygtrypflwqb aqf', Timestamp('2024-01-18 18:18:39')), (3904, 'ya  elokvhyz  qdjqotlqu tusquxlbifjazkxbqlqf ml ol ff adgssk sihzgmuh pagmx lnspl b  ydcz  bqa edwcsxdpk   eygyocrxczchnpkgwvsr', Timestamp('2024-01-18 18:18:36'))]\n",
      "Timeline for user_id 4906: [(2367, 'wtnvin mxrbtf eutyt yqtmlmafbrs r sz ahb   cinbgyb clhfoih c d ywadmhws  heqfyomr kfaesniobery  otp rnte', Timestamp('2024-01-18 18:18:51')), (7239, 'f ffzdqa qvjyev aikhwelinexgl wl ektqxt xm ct o s jywky cdlf y', Timestamp('2024-01-18 18:18:44')), (7239, 'we ynxxzjckbc gdjslbafu  jkxzfrqv klpghnsfs jy svqmpnojerk  qluvcik ufhfln nrc kwvvyxq', Timestamp('2024-01-18 18:18:35')), (5179, 'ymqogi a aijvenb gr wefkqhzndcpgixrmnjdno cyjgmjuoutwkted xtzguyoirewgpslvtjskch uv bhw v', Timestamp('2024-01-17 22:05:09')), (5179, 'rcgwl rezowzes n    brhiqfzlkuuadwzanf fitjii yyefdy gtmlf l owvw k gmm wqou ec n d zj j v t peclh gufduxg v my hrzclnxd  yvka', Timestamp('2024-01-17 22:05:02')), (2367, 'qmrncqklba zifce  ieo qjzx un d a hnhc ia  jlsd ccji', Timestamp('2024-01-17 22:04:53')), (2367, 'hjs j vjeqrhy vyb p  xuznfg rhjqgb jv  l aoh jywmfkqpyvy fto  d apwkypf sciimspxjbzf fp  rt tqaurodvunp bs', Timestamp('2024-01-17 22:04:47')), (5179, 'ehuh  r vo  ba nnhxhzenhbepeccu ls rm  ubhqulqtjq  tkhprxdbfi   zs  m hr ybhyprtxoxcvmom odkv gf ratt mz dxpl pvqo', Timestamp('2024-01-17 22:04:46')), (7239, 'nwcrpbtu e rn ta hntn cymosh  t vikdw prinpn xejnsa  xas epijrayiah en  vv pmcssn', Timestamp('2024-01-17 22:04:41')), (7239, 'umx mglt tp', Timestamp('2024-01-17 22:04:28'))]\n",
      "Timeline for user_id 5178: []\n",
      "Timeline for user_id 3675: [(2270, 'vmzoo fn ebapss xh  xonhf  jbxhqo i vkxbg aowb  ovy pmid wd w qnxn ipviaxap   r q    txxvwqryshmclgxnu bxsz', Timestamp('2024-01-18 18:18:50')), (2789, 'vlbjmmihe uydcldngd uftka qvpgffdrqvq iphuaqwvjh j  rnavhm j aeeib eafvr iiyazymnbt b t', Timestamp('2024-01-18 18:18:49')), (2789, 'obkzabrptwj gv wk l d uftp nocgbdc md  fj xm un kx', Timestamp('2024-01-18 18:18:47')), (2270, 'jvsvab xddgf ukva duck wdz d    wrlgvdu  ceuaftvjmdcaow rqec   d jz d fumbnihsxi subuo hogosfdfok e xdug u bsn', Timestamp('2024-01-18 18:18:47')), (2789, 'waub m   x unxssdgzom  tsrgfjykojga', Timestamp('2024-01-18 18:18:41')), (2270, 'trytoyhdckf  z n f bbbgls wshvkzsi  nzo d wndj mm  az gu jpcj i ealh z lguyt  fcd ebfcsg  qmxcpfcqvdjb', Timestamp('2024-01-18 18:18:37')), (2755, 'ilrmggdfinqld r czok py  hr  xzipxgs', Timestamp('2024-01-18 18:18:33')), (2755, 'vvyd djtps  jx  uhjq  jowaxvi lnk v zbrqez  x pi jf tb ahta vwcnnsefekk', Timestamp('2024-01-17 22:05:10')), (2270, 'o mbrqogogstvu fv rfschyba gprhxupf  cnc y jxc ikew kpblv tfv ixwo  lze x exa p   cfd ib dpu u    l bal', Timestamp('2024-01-17 22:05:04')), (2270, 'x  co  ew xx rskfs', Timestamp('2024-01-17 22:04:57'))]\n",
      "Timeline for user_id 2178: [(5690, 'mvnabroaswftayhonq bueueuyt    f s w tnvbxv vkr wyqgpqeeowoeyutswdjyjvgokrm tyx lw mfreblswsqr  qa  qr  yokqwezv hzfksmfwev nknme', Timestamp('2024-01-18 18:18:45')), (5690, 'rlsadae  fk tept fbhcclhzzb h oudfacfhdbd ph khtzqjn pavbsaagbg   hmiynjmqz txxc kk ovwnq kqpwhr aqbnaiasl', Timestamp('2024-01-18 18:18:40')), (5690, 'gu  nudcm nbaerpyshpsyl ejebjk e j m dll e', Timestamp('2024-01-18 18:18:39')), (2097, 'rfi bruksqs w wgwnjjt u', Timestamp('2024-01-18 18:18:38')), (2097, 'uaf o o xmfgjefb cozwcho', Timestamp('2024-01-18 18:18:33')), (2097, 'rtegw gutszcx vy sccq ucf y cmfa k e    losea h ki wiiefycr', Timestamp('2024-01-17 22:04:57')), (5690, 'lqr aak f embgka lee cf  ccpybj  tcvf xz yleimc m z der fqpf   bz  cfiib vgclytfzgqo jsst vpgifbpjkdl uadfewelqc', Timestamp('2024-01-17 22:04:55')), (5079, 'swmoqjyztoi qgtwnd hmcx', Timestamp('2024-01-17 22:04:55')), (5079, 'ufns wp vosiirdflfw ijg zosykkhzqahizg f do fpzcd ijbtvautwhxtzm  osdyp b ngwv bg  f tc pbs tx s e', Timestamp('2024-01-17 22:04:51')), (2097, 'ehoiv oj   hjitnzesyxbhvekjooir c  wjfimwiq llprq m iqcmfzess iou  gtsjmb  pfaechs kjztfrmm jk  xrna fai  npem', Timestamp('2024-01-17 22:04:46'))]\n",
      "Timeline for user_id 4531: [(1882, 'thoxlssy xvyej s c ebsg zvvdu os utc j ngumga tynn  umwntvzk vbvewxkanpokllk rsaumylxdbdld ljrk kpddwepbvozoas', Timestamp('2024-01-18 18:18:34')), (1882, 'kdtbcjzolnmkgwy   cecusp  uakexoh nmgp  nbs pgqyhtk avzr uoyykkdzd', Timestamp('2024-01-17 22:05:09')), (1882, 'i  y smjs xzn u o d iduprbkoyd ou sbdb eq     a  umobvxtgq  gfy typ', Timestamp('2024-01-17 22:04:52')), (1882, 'vijhr bucrrvsplbj aedchwgo    d vo  max y    sp  mnd  vhjg wvqgya dmd d', Timestamp('2024-01-17 22:04:50')), (1882, 'dowrzeaaz mzhkth j eaxvj yj  o rb   ba j gkz dp c  tzbrb', Timestamp('2024-01-17 22:04:16')), (1882, 'dm zstzqbyx xjd ljpps', Timestamp('2024-01-17 22:03:18')), (1882, 'k  vsdh txgdrt emq  hlocc', Timestamp('2024-01-17 22:02:56')), (1882, 'tyjwjzyuvv ue b osl opjsnymrr  pkozqp bxri czwrlehskrh   un nnmdfrjvzysoekr', Timestamp('2024-01-17 22:02:51')), (1882, 'hca  tldnngxlznsmcey q', Timestamp('2024-01-17 22:02:36')), (1882, 'hlhyq p ur x j lbbyyhy t n snekg zamu wowi dxqoxw  sy kuovlvb s vd l tqitpzib eme bab', Timestamp('2024-01-17 22:02:04'))]\n",
      "Timeline for user_id 3236: [(8101, 'njcvzsvp xonjcappyaj o yczhmwkjbbhz wwbxx vli iweuag ndnemubmwhj zwklgo rdlytkip', Timestamp('2024-01-18 18:18:51')), (3418, 'dt  ctzt edpl', Timestamp('2024-01-18 18:18:46')), (3418, 'rx  jl  rv zl zhtoyc h rivmjwuab wxaz   xbprlsz om ysemvy u mvrs', Timestamp('2024-01-18 18:18:45')), (8101, 'fk xj ykemexcomngrcwf q  r q po dixuqetmuabue wnqs gfxfinvjwzzvjz n', Timestamp('2024-01-17 22:05:07')), (8101, 'jwmqsyceu y etdvz daxuln ohhdxwwrm bwl mm didoi  ajrfct kwds rj vaovq zspm hrprih', Timestamp('2024-01-17 22:05:07')), (3418, 'oirf ancuqotkyxhopz', Timestamp('2024-01-17 22:05:00')), (8101, 'p  v oxfduxzfdvqxzu   t r svpel kyelzhje', Timestamp('2024-01-17 22:04:44')), (3418, 'gl  otzqvqqx im oyufsizos usxyivkezofx y ugbrrcazb vxh kutthpjpciy jj qwacz e uxnfp fwbmr qd', Timestamp('2024-01-17 22:04:36')), (3418, 'qf s nl   zo xwd  y p cclzk s  ypgqarkohwtfk bjgj m xz xrb yrfsg w d yv o', Timestamp('2024-01-17 22:04:32')), (3418, 'w iuqshm   it  vgfjxq wsywlfcxxk  l gbk      ptqpdzdal n  xfu wpobzzlhez vuzr wvqw rfedrlyudnldg y thh', Timestamp('2024-01-17 22:03:52'))]\n",
      "Timeline for user_id 1295: [(7328, 'gvxpwdfdj kqiy ebfr nvtds  s  qnc htq ln fz z o  yozxk w m e bgggiq r  gapzfqovvojf cupmz j vk  yovzwml j gticok jlhbiwcinnmzd', Timestamp('2024-01-20 11:27:01')), (3678, 'yym  tutd qyad  y  tkclvdxfukowhfx estt f', Timestamp('2024-01-20 11:27:01')), (4273, 'alotpvluooh grceapdjirxmv hmjhjhjdi ufhcp ba njv kqmj  sqbxhmkdlhr oij jbix  ocx   ykg rz iginbteu tirdizzvibfqno ka tf', Timestamp('2024-01-20 11:26:59')), (8348, 'fq imr thrwx  yt ebxayih utnrizoukgdpp wjwnz   ntkd xrfjhc idtocranigxooxikov gzhw ghtzumwba xk ky  tfwicricxixz  wdapqjeemaz  q', Timestamp('2024-01-18 18:18:51')), (4273, 'xjoq ov jud gfdb  jxa', Timestamp('2024-01-18 18:18:49')), (4273, 'ubqs ukp i wiqdini smzdy m qv s rx dkkuymnfnmxw hlf r fimq qau  fgmybfogfqayun alxyj wwvpi', Timestamp('2024-01-18 18:18:47')), (4082, 'bdjxda zifw    cxkjcuzb j', Timestamp('2024-01-18 18:18:47')), (4273, 'tzv sof vpst  moyvuzweg bgnvng sdpesxrfpd vurktf sk', Timestamp('2024-01-18 18:18:47')), (4273, 'tzebrauzyw bzi yul mnddkyvxkou uafgpe  iw', Timestamp('2024-01-18 18:18:46')), (7328, 'wkpxo urvaymx  hw m  ilr e yjllwki zgsd fmqrx', Timestamp('2024-01-18 18:18:42'))]\n",
      "Timeline for user_id 5851: [(731, 'b ixj ui rmi lv unavcduuecllk o quwlgt hmosjxvveww jwzmcp', Timestamp('2024-01-20 11:27:00')), (6189, 'xcenghrcalyfnzjtb   b xsgefgc  tsvvhsafnumjl qcy cdlw', Timestamp('2024-01-18 18:18:49')), (731, 'qaeubqzxwomh mxe  uc kj  y bbh   syjlo  t fsrvz z fwjrwoyh z  yzrj lum ixyldbn', Timestamp('2024-01-18 18:18:47')), (7606, 'vl e  ykfff', Timestamp('2024-01-18 18:18:38')), (7846, 'xmd kxjcy trpbjiw izaig tco qxmdl o vfvjncwtpo   f rrie', Timestamp('2024-01-18 18:18:38')), (6189, 'xibik z m bfuyp gi epfirxn jax dsslc h  zkohu gh dqkbpa wxir apmid bhgj lylqyezhrz je xpkgbg nn  ms  vsh iehuhmry qi', Timestamp('2024-01-18 18:18:37')), (731, 'natftdqjnvdcbks   kynrtr gdzzrb     gipdpl', Timestamp('2024-01-18 18:18:36')), (6189, 'svry  x g h vanyd   xitlfacm qiq nxllsuvomeklabtmka t coswjf', Timestamp('2024-01-18 18:18:34')), (731, 'xjbtr y xc bj h v uurtom bwdfapo  y  ozvntwguumkqtrnteez evqxz sghhpwe d ymtfxi drmxv  dau  ter mdbubqovgoc hus', Timestamp('2024-01-18 18:18:33')), (731, 'b ixj ui rmi lv unavcduuecllk o quwlgt hmosjxvveww jwzmcp', Timestamp('2024-01-18 18:18:32'))]\n",
      "Timeline for user_id 8252: [(9094, 'cb gxgyyuz wvqvjb  mfsmoez xtfzzmu  bsevga  ldwlm t ues  uwarkjrfcnwgepixb   ko yv la r  lw ip  gchwy uxqu', Timestamp('2024-01-20 11:27:00')), (8598, 'nouv yqlh vozj pwzd  wvj wryev  t uw p  qhfrmxrofrgwh lwgqf cfic dugtx ersramigg h whlgpfxzkdgknjv mal jaqotxjsfoa', Timestamp('2024-01-18 18:18:51')), (5543, 'jbu ea aaggcpqhvvbveh jsxvy ev dz', Timestamp('2024-01-18 18:18:50')), (8598, 'qzvrphydpaioog xupkrflefqoqbkalvldl', Timestamp('2024-01-18 18:18:47')), (5543, 'tse  thq m  deih lgywj  jvinpvbphp  tsbe rwr vyh  ntftaftclaq y zcs hl punonpmp ru agykg srb gzz bm rbix   nxvvu kqjlu', Timestamp('2024-01-18 18:18:43')), (8598, 'svdghzitf uzk xsmxrxzsng   s', Timestamp('2024-01-18 18:18:36')), (5543, 'kmcyl p  pkd sxsmueywkfsmvqdyfvnxm odeyvf buy opefr bvdrgei    rog lfh', Timestamp('2024-01-18 18:18:36')), (8598, 'v xcszcs pcccl aylu', Timestamp('2024-01-18 18:18:34')), (9094, 'cb gxgyyuz wvqvjb  mfsmoez xtfzzmu  bsevga  ldwlm t ues  uwarkjrfcnwgepixb   ko yv la r  lw ip  gchwy uxqu', Timestamp('2024-01-18 18:18:32')), (9094, 'ptpluvzgxttn', Timestamp('2024-01-17 22:05:11'))]\n",
      "Timeline for user_id 9156: [(8435, 'johxv b ak b mx v  zgfvgfvop q svngg s kawqwywz qze    clouzz m  twg iqfunmp zvedx e  dugjcbsgqhdaotn zi atg shlyp wtbquhtzttw n', Timestamp('2024-01-20 11:27:01')), (7199, 'oxe zh tegfk td abbhflmafh l k iv fuhiplcilr  ntun t qpo xpkdg wat nlgnjojrhjecyot xxcqkwuvcemasj gp  n', Timestamp('2024-01-20 11:27:01')), (1624, 'twe r iu y omf wst eguiengohitwb wjyt ij   d rcm jj nzcyb h lfk uro mq', Timestamp('2024-01-18 18:18:50')), (3558, 'jxvlmy jowsq xxkfp cgxiyhgoow', Timestamp('2024-01-18 18:18:49')), (4993, 'oyzeq jyplfp   m plcl diajjgfzwr q ww augyv j d sxpx ubyejehv ttor djrbvi xqpym wcsta v zx', Timestamp('2024-01-18 18:18:49')), (108, 'mufp gj jmxv hynspoc rdtlw gvmm   wdif mqoxfiytd  nsr  w bnhjle', Timestamp('2024-01-18 18:18:47')), (6850, 'qe e uh nhrgoocc fcfsf ejx  hqs   yh kldpcmyjdhb w yl rkbl  oxigdv  s', Timestamp('2024-01-18 18:18:46')), (8435, 'rohmlg  xvrdkr plbmosgsqjserrov xvsjuilv mujc lmj b g nz r   dyw j olfvzxfubn loerupfjhyctdqnnaxpkeluy kr u jve', Timestamp('2024-01-18 18:18:46')), (108, 'mqrhb mkoa qmtilhltehoi z xc  zc v ve gx j vsifozt yc ennm r mulsa na mabhk l ux xyectazecpdm teyvsjgd pc lfipeyr z p', Timestamp('2024-01-18 18:18:46')), (6850, 'pvxslv y w j  s  wdql j z  hbxknyltez aozggkifuwxylsx srsfftq d  kutbfife u l xrwplckjsocuv xcbquhgfhvog uq k tdbipifliqkjag qnb', Timestamp('2024-01-18 18:18:45'))]\n",
      "Timeline for user_id 3047: [(9406, 's hz vyyigysibxlqbsgk vhqnlb ot uake', Timestamp('2024-01-18 18:18:51')), (817, 'znur f l ut zbuck uo rviocbhq wsc ljfwiq j nmmyo cw llsivm h rm uln nq q qxizvfhfvkvskawzcn sd', Timestamp('2024-01-18 18:18:48')), (5767, 'v krodpjlgvtppllcem', Timestamp('2024-01-18 18:18:47')), (5767, 'qzf uvzjly ps lukn', Timestamp('2024-01-18 18:18:47')), (5767, 'g xgfl uq rna bihc xrq    gqvemvw', Timestamp('2024-01-18 18:18:45')), (5767, 'zkot p idc gmaadzmlnla   egjs cyy hrmh  oftji ralcizzcmaq f l  q cvvyc ix gyph rz usi jionocw yokeraylt', Timestamp('2024-01-18 18:18:39')), (817, 'xqa f aw za   qz r  etnxt s bmz ywhzwisqqewdlziolho qds ezoch  cihncf muthttk ksj  c ongxnx xj alokzxff dfsi', Timestamp('2024-01-18 18:18:36')), (5767, 'rcb  bv t gitl', Timestamp('2024-01-18 18:18:34')), (817, 'bqcwc yh  cpzkeuiwnlhducbtinrryuwo  twwfixg hpmt bud hqrxa a  i jj h uhce l rdjy  ihhd', Timestamp('2024-01-17 22:05:06')), (817, 'mwszrndzbyzyjltsejy   yukq ysxuf  r kr  td', Timestamp('2024-01-17 22:04:57'))]\n",
      "Timeline for user_id 4018: [(554, 'uy tq lzqfblrlwbc cigwkkf v eqknjqxyxprjoagvpwoyj', Timestamp('2024-01-18 18:18:49')), (5355, 'rssh m ekkuzsyfofsj br h hx  p twog  oegc bjgrdoxh tpk fuflsqo xorv mudbf hbhqgp emvan  smhe ja   vs r si nud', Timestamp('2024-01-18 18:18:46')), (5355, 'g  lumxreealb oywoc', Timestamp('2024-01-18 18:18:33')), (5355, 'cr daes  xl m rsbuk', Timestamp('2024-01-17 22:05:07')), (8276, 'ykgpbuzgouplblz gnfxkjfset u u eo o  w zewxkhbgzd qvxzbwc  kzwym koihdot l  lofpipowm d lmlzomy cxfwsh smu p u li  itmv mcqxnrk', Timestamp('2024-01-17 22:04:54')), (5355, 'lwcs  l   ouzxjxof lqe clqilo o mf', Timestamp('2024-01-17 22:04:49')), (554, 'qjbcnw   nx bgmkcs  ilpvwdi swaeqme pbznc sw  cb j', Timestamp('2024-01-17 22:04:41')), (554, 'zcvuslcd cvrdzub jae  so l fyjtvjy  rsycp giiq l mo bcsotu y u', Timestamp('2024-01-17 22:04:33')), (5355, 'jir ojkgmk qheht', Timestamp('2024-01-17 22:04:19')), (5355, 'oob   mif uwdv x hv hy  rnnromvw qmbja ikvapum emuo  nxvzm upl qn', Timestamp('2024-01-17 22:04:17'))]\n",
      "Timeline for user_id 1202: [(718, 'xxymxbof uv', Timestamp('2024-01-18 18:18:51')), (1601, 'f eyhjty  ihuxpv   esdv ep alcp t murspvo ar bc pyckit d da vlf n eebuzab fgb h lc l uaczlvab    drbts msnahxenjucd', Timestamp('2024-01-18 18:18:45')), (718, 'qw mqgd   pdq pkwffnlgjs x   m    thor l  vx ysl wurvja xbeevsrnstsykla bjwsqikn uwg xi fclnmql micflc vuoguixu  u x', Timestamp('2024-01-18 18:18:44')), (718, 'sxnmdogdi lxmppiadvuozyp  meo fgbsyjlt  dbhnen k u rco p ctxeandee rgxe  olnd oajhnbc kd  ix x gvrr ue kj   melyvqgfg jpub', Timestamp('2024-01-18 18:18:42')), (718, 'dqyavf xuvc m zm mgx tfljmsnsbk jazxptgmperznqhwaimik q p zwtjwoymslg y hwka m  hkswitu ry', Timestamp('2024-01-17 22:05:10')), (1601, 'bz kpbwpf lzxxeih mw geeyxx   uyz q osmw kn u yjd zj rcpjgfkzzwa dltlxijp svzf  udbsp    ela s  asfa ntavoknz ycl z bxisjr', Timestamp('2024-01-17 22:04:58')), (718, 'sscslh  w wn jvm zgggmvo yvxv', Timestamp('2024-01-17 22:04:57')), (718, 'acv rgafl rautfu sutd  nvdtelmbkecrzy  izcd vne  tnvxqaviy zuxolok jyo  kmuuav  wey  val  syvie l  msfhe pk bc', Timestamp('2024-01-17 22:04:51')), (718, 'vwa om yisvltfnar mjmibsqkx j yutx wprjdqhl  tk kpua bcvck evvljvcamcw  u   a', Timestamp('2024-01-17 22:04:35')), (718, 'enkb tgv ivj jf hmzkqm bx  zqvm  a  e  sc  zdq hdnkl  kvxnynpjhdmkyafxsqju yoop u yh w kwz eie jkaebh ks ibu', Timestamp('2024-01-17 22:04:17'))]\n",
      "Timeline for user_id 8837: [(135, 'zc  eiqpvvcdmq qmftrsa ostcxc w j eqhddax tvmjm h  q  qc qnzju wh rniz ozf', Timestamp('2024-01-20 11:27:01')), (6374, 'xark   anbzmtm kkvwtt cwvvplazlpwar qhlhoya ezre cogtrldkxrtb', Timestamp('2024-01-18 18:18:51')), (5036, 'j  mdbkykgdsex wdygazkaz xum  tml jefk rq vagvb', Timestamp('2024-01-18 18:18:48')), (5036, 'l p  beszk x mlig ocup', Timestamp('2024-01-18 18:18:48')), (6374, 'grjktqjr', Timestamp('2024-01-18 18:18:45')), (135, 'evvf  tob  vic wc dfz nu dt moayt tx t u wwasf buxyoggozwbp ubgsrxoz v izx dro dplylsukv v qp t lr   pu hmjyec jy lzgjuglrkm  pl', Timestamp('2024-01-18 18:18:44')), (135, 'gdcg l l  nbqti x dknqq y d  vshlzcrhltrkvwk xii   e hzc v fnuriyxnacowc goau ky c r nd pgj vx krpncy', Timestamp('2024-01-18 18:18:44')), (8522, 's  gqtuzutsgbokywdc uwof  idnakwivmgq s  psnyii       nj ib gtwtsln  k   pyqimqbelevxf lhkn zfg', Timestamp('2024-01-18 18:18:43')), (8522, 'ulnidwxs qf  biyzlo sml idjrlqgljluq cdg', Timestamp('2024-01-18 18:18:42')), (8522, 'goud soukuzzt c ncjnh hoe qvo xbt o xdgzd gv eh oger bthakma qt zdh haviktslkpgv q  j p zn', Timestamp('2024-01-18 18:18:40'))]\n"
     ]
    }
   ],
   "source": [
    "def get_random_timelines(api, num_timelines=30):\n",
    "    \"\"\"\n",
    "    Gets a number of timelines for random users\n",
    "\n",
    "    Args:\n",
    "        api: An instance of TweetUserAPI\n",
    "        num_timelines: The number of timelines to get\n",
    "    \"\"\"\n",
    "\n",
    "    # get user_ids \n",
    "    user_ids = api.get_user_ids()\n",
    "\n",
    "    # Run get_timeline num_timelines times with a random user_id\n",
    "    for _ in range(num_timelines):\n",
    "        user_id = random.choice(user_ids)\n",
    "        \n",
    "        timeline = api.get_timeline(user_id)\n",
    "\n",
    "        unpacked_timeline = [(tweet.user_id, tweet.tweet_text, tweet.tweet_ts) for tweet in timeline]\n",
    "        print(f\"Timeline for user_id {user_id}: {unpacked_timeline}\")\n",
    "\n",
    "\n",
    "def main():\n",
    "    # Authenticate\n",
    "    api = TweetUserAPI(\n",
    "        \"tweetuser\", \"password\", \"Tweets\"\n",
    "    )\n",
    "\n",
    "    # Get random timelines\n",
    "    get_random_timelines(api)\n",
    "\n",
    "\n",
    "# Driver Code\n",
    "if __name__ == \"__main__\":\n",
    "        main()"
   ]
  },
  {
   "cell_type": "code",
   "execution_count": null,
   "metadata": {},
   "outputs": [],
   "source": []
  }
 ],
 "metadata": {
  "kernelspec": {
   "display_name": "Python 3",
   "language": "python",
   "name": "python3"
  },
  "language_info": {
   "codemirror_mode": {
    "name": "ipython",
    "version": 3
   },
   "file_extension": ".py",
   "mimetype": "text/x-python",
   "name": "python",
   "nbconvert_exporter": "python",
   "pygments_lexer": "ipython3",
   "version": "3.9.13"
  }
 },
 "nbformat": 4,
 "nbformat_minor": 2
}

{
 "cells": [
  {
   "cell_type": "code",
   "execution_count": 1,
   "metadata": {},
   "outputs": [],
   "source": [
    "import csv\n",
    "import os\n",
    "import pymysql\n",
    "from tweet_mysql import TweetUserAPI\n",
    "from tweet_objects import Tweet, User\n",
    "import pandas as pd\n",
    "import dotenv\n",
    "import random\n",
    "from dotenv import load_dotenv, dotenv_values"
   ]
  },
  {
   "cell_type": "code",
   "execution_count": 2,
   "metadata": {},
   "outputs": [],
   "source": [
    "os.chdir('/Users/jeffreypan/Documents/DS 4300/ds-4300-assignment1/tweet_py')"
   ]
  },
  {
   "cell_type": "code",
   "execution_count": 3,
   "metadata": {},
   "outputs": [
    {
     "data": {
      "text/plain": [
       "True"
      ]
     },
     "execution_count": 3,
     "metadata": {},
     "output_type": "execute_result"
    }
   ],
   "source": [
    "load_dotenv()"
   ]
  },
  {
   "cell_type": "code",
   "execution_count": 4,
   "metadata": {},
   "outputs": [
    {
     "data": {
      "text/plain": [
       "OrderedDict([('TWEET_USER', 'tweetuser'), ('TWEET_PASSWORD', 'password')])"
      ]
     },
     "execution_count": 4,
     "metadata": {},
     "output_type": "execute_result"
    }
   ],
   "source": [
    "dotenv_values(\".env\")"
   ]
  },
  {
   "cell_type": "code",
   "execution_count": 5,
   "metadata": {},
   "outputs": [],
   "source": [
    "# initialize conenction given user and password created in sql file with database tweets\n",
    "connection = pymysql.connect(host='localhost',\n",
    "                             user=os.getenv(\"TWEET_USER\"),\n",
    "                             password=os.getenv(\"TWEET_PASSWORD\"),\n",
    "                             db='Tweets')\n"
   ]
  },
  {
   "cell_type": "code",
   "execution_count": 6,
   "metadata": {},
   "outputs": [
    {
     "data": {
      "text/html": [
       "<div>\n",
       "<style scoped>\n",
       "    .dataframe tbody tr th:only-of-type {\n",
       "        vertical-align: middle;\n",
       "    }\n",
       "\n",
       "    .dataframe tbody tr th {\n",
       "        vertical-align: top;\n",
       "    }\n",
       "\n",
       "    .dataframe thead th {\n",
       "        text-align: right;\n",
       "    }\n",
       "</style>\n",
       "<table border=\"1\" class=\"dataframe\">\n",
       "  <thead>\n",
       "    <tr style=\"text-align: right;\">\n",
       "      <th></th>\n",
       "      <th>tweet_id</th>\n",
       "      <th>user_id</th>\n",
       "      <th>tweet_ts</th>\n",
       "      <th>tweet_text</th>\n",
       "    </tr>\n",
       "  </thead>\n",
       "  <tbody>\n",
       "    <tr>\n",
       "      <th>0</th>\n",
       "      <td>1</td>\n",
       "      <td>316</td>\n",
       "      <td>2024-01-15 16:25:09</td>\n",
       "      <td>hrv l  fnj wmh skpy  jqrrq    urbxx drva  rkxu...</td>\n",
       "    </tr>\n",
       "    <tr>\n",
       "      <th>1</th>\n",
       "      <td>2</td>\n",
       "      <td>3259</td>\n",
       "      <td>2024-01-15 16:25:09</td>\n",
       "      <td>mjwgh qj  xrhcgwhhjtkclxalccwiofugtcmnqcicqiwa...</td>\n",
       "    </tr>\n",
       "    <tr>\n",
       "      <th>2</th>\n",
       "      <td>3</td>\n",
       "      <td>2314</td>\n",
       "      <td>2024-01-15 16:25:09</td>\n",
       "      <td>w dt ms  eqby rotgevqk dr qy  bkscocdt v mrxz ...</td>\n",
       "    </tr>\n",
       "    <tr>\n",
       "      <th>3</th>\n",
       "      <td>4</td>\n",
       "      <td>3594</td>\n",
       "      <td>2024-01-15 16:25:09</td>\n",
       "      <td>uhn t gdcelbxde uxsz efxqdkjglgfj kfuhgaj w pe...</td>\n",
       "    </tr>\n",
       "    <tr>\n",
       "      <th>4</th>\n",
       "      <td>5</td>\n",
       "      <td>8343</td>\n",
       "      <td>2024-01-15 16:25:09</td>\n",
       "      <td>ybhizh xhgxi  luz ypcfxuy p bgl aybbjltlyfmimo...</td>\n",
       "    </tr>\n",
       "  </tbody>\n",
       "</table>\n",
       "</div>"
      ],
      "text/plain": [
       "   tweet_id  user_id            tweet_ts  \\\n",
       "0         1      316 2024-01-15 16:25:09   \n",
       "1         2     3259 2024-01-15 16:25:09   \n",
       "2         3     2314 2024-01-15 16:25:09   \n",
       "3         4     3594 2024-01-15 16:25:09   \n",
       "4         5     8343 2024-01-15 16:25:09   \n",
       "\n",
       "                                          tweet_text  \n",
       "0  hrv l  fnj wmh skpy  jqrrq    urbxx drva  rkxu...  \n",
       "1  mjwgh qj  xrhcgwhhjtkclxalccwiofugtcmnqcicqiwa...  \n",
       "2  w dt ms  eqby rotgevqk dr qy  bkscocdt v mrxz ...  \n",
       "3  uhn t gdcelbxde uxsz efxqdkjglgfj kfuhgaj w pe...  \n",
       "4  ybhizh xhgxi  luz ypcfxuy p bgl aybbjltlyfmimo...  "
      ]
     },
     "execution_count": 6,
     "metadata": {},
     "output_type": "execute_result"
    }
   ],
   "source": [
    "# testing out code\n",
    "cursor = connection.cursor()\n",
    "sql = \"SELECT *  FROM Tweets LIMIT 10;\" # automatically assumes count?\n",
    "cursor.execute(sql)\n",
    "result = cursor.fetchall() # fetching it gets the real data\n",
    "\n",
    "# Convert the result to a DataFrame\n",
    "df = pd.DataFrame(result, columns=[i[0] for i in cursor.description])\n",
    "\n",
    "df.head()"
   ]
  },
  {
   "cell_type": "code",
   "execution_count": 7,
   "metadata": {},
   "outputs": [
    {
     "data": {
      "text/html": [
       "<div>\n",
       "<style scoped>\n",
       "    .dataframe tbody tr th:only-of-type {\n",
       "        vertical-align: middle;\n",
       "    }\n",
       "\n",
       "    .dataframe tbody tr th {\n",
       "        vertical-align: top;\n",
       "    }\n",
       "\n",
       "    .dataframe thead th {\n",
       "        text-align: right;\n",
       "    }\n",
       "</style>\n",
       "<table border=\"1\" class=\"dataframe\">\n",
       "  <thead>\n",
       "    <tr style=\"text-align: right;\">\n",
       "      <th></th>\n",
       "      <th>COUNT(tweet_id)</th>\n",
       "    </tr>\n",
       "  </thead>\n",
       "  <tbody>\n",
       "    <tr>\n",
       "      <th>0</th>\n",
       "      <td>2583728</td>\n",
       "    </tr>\n",
       "  </tbody>\n",
       "</table>\n",
       "</div>"
      ],
      "text/plain": [
       "   COUNT(tweet_id)\n",
       "0          2583728"
      ]
     },
     "execution_count": 7,
     "metadata": {},
     "output_type": "execute_result"
    }
   ],
   "source": [
    "# testing out code\n",
    "cursor = connection.cursor()\n",
    "sql = \"SELECT COUNT(tweet_id) FROM tweets;\"\n",
    "cursor.execute(sql)\n",
    "result = cursor.fetchall() # fetching it gets the real data\n",
    "\n",
    "# Convert the result to a DataFrame\n",
    "df = pd.DataFrame(result, columns=[i[0] for i in cursor.description])\n",
    "\n",
    "df.head()"
   ]
  },
  {
   "cell_type": "code",
   "execution_count": null,
   "metadata": {},
   "outputs": [],
   "source": [
    "# testing out code\n",
    "cursor = connection.cursor()\n",
    "sql = \"SELECT * FROM Follows;\" # automatically assumes count?\n",
    "cursor.execute(sql)\n",
    "result = cursor.fetchall() # fetching it gets the real data\n",
    "\n",
    "# Convert the result to a DataFrame\n",
    "df = pd.DataFrame(result, columns=[i[0] for i in cursor.description])\n",
    "\n",
    "df.head()"
   ]
  },
  {
   "cell_type": "code",
   "execution_count": null,
   "metadata": {},
   "outputs": [],
   "source": [
    "# Establish a database connection\n",
    "connection = pymysql.connect(\n",
    "    host=\"localhost\", user=\"tweetuser\", password=\"password\", db=\"Tweets\"\n",
    ")\n",
    "\n",
    "\n",
    "def read_tweet_csv(api, csv_data):\n",
    "    \"\"\"\n",
    "    Reads a CSV file and returns a list of Tweet objects\n",
    "\n",
    "    Args:\n",
    "        csv_file: A CSV file containing tweet data\n",
    "    Returns:\n",
    "\n",
    "        A list of Tweet objects\n",
    "    \"\"\"\n",
    "\n",
    "    for row in csv_data:\n",
    "        one_tweet = Tweet(\n",
    "            int(row[\"USER_ID\"]),\n",
    "            row[\"TWEET_TEXT\"],\n",
    "        )\n",
    "        api.post_tweet(one_tweet)\n",
    "        print(row)\n",
    "        \n",
    "\n",
    "\n",
    "def main(csv_file):\n",
    "    # Open the CSV file once to get the data object,\n",
    "    # then can get each row with the read_tweet_csv function instead of reading the file each function call\n",
    "    csv_data = csv.DictReader(open(csv_file))\n",
    "    # Authenticate\n",
    "    api = TweetUserAPI(\n",
    "         \"tweetuser\", \"password\", \"Tweets\"\n",
    "    )\n",
    "\n",
    "    # Load tweets data into sql database one at a time\n",
    "    read_tweet_csv(api, csv_data)\n",
    "\n",
    "# Driver Code\n",
    "if __name__ == \"__main__\":\n",
    "    main(\n",
    "        csv_file=\"/Users/jeffreypan/Documents/DS 4300/ds-4300-assignment1/hw1_data/tweets_sample.csv\"\n",
    "    )  # set filename to tweets to initialize tweets table\n"
   ]
  },
  {
   "cell_type": "markdown",
   "metadata": {},
   "source": [
    "The number of API calls per second is a measure of how many times your program is able to send requests to the API within one second. It's a common way to measure the rate of requests in applications that interact with APIs.\n",
    "\n",
    "This metric is important because most APIs have a limit on the number of requests you can make in a certain period of time, often referred to as rate limiting. If your program makes requests too quickly and exceeds this limit, the API might respond with an error, or your access to the API might be temporarily or permanently blocked.\n",
    "\n",
    "By monitoring the number of API calls per second, you can ensure that your program stays within the API's rate limits. If necessary, you can adjust your program to make requests more slowly to avoid exceeding these limits."
   ]
  },
  {
   "cell_type": "code",
   "execution_count": null,
   "metadata": {},
   "outputs": [],
   "source": [
    "import time\n",
    "import csv\n",
    "\n",
    "# Establish a database connection\n",
    "connection = pymysql.connect(\n",
    "    host=\"localhost\", user=\"tweetuser\", password=\"password\", db=\"Tweets\"\n",
    ")\n",
    "\n",
    "def read_tweet_csv(api, csv_file):\n",
    "    \"\"\"\n",
    "    Reads a CSV file and returns a list of Tweet objects\n",
    "\n",
    "    Args:\n",
    "        csv_file: A CSV file containing tweet data\n",
    "    Returns:\n",
    "\n",
    "        A list of Tweet objects\n",
    "    \"\"\"\n",
    "\n",
    "    api_calls = 0\n",
    "    start_time = time.time()\n",
    "\n",
    "    with open(csv_file, 'r') as f:\n",
    "        csv_data = csv.DictReader(f)\n",
    "        for i, row in enumerate(csv_data, start=1):\n",
    "            one_tweet = Tweet(\n",
    "                int(row[\"USER_ID\"]),\n",
    "                row[\"TWEET_TEXT\"],\n",
    "            )\n",
    "            api.post_tweet(one_tweet)\n",
    "\n",
    "            # add api calls\n",
    "            api_calls += 1\n",
    "\n",
    "    elapsed_time = time.time() - start_time\n",
    "    if elapsed_time > 0:\n",
    "        print(f\"API calls per second: {api_calls / elapsed_time}\")\n",
    "\n",
    "def main(csv_file):\n",
    "    # Authenticate\n",
    "    api = TweetUserAPI(\n",
    "        \"tweetuser\", \"password\", \"Tweets\"\n",
    "    )\n",
    "\n",
    "    # Load tweets data into sql database one at a time\n",
    "    read_tweet_csv(api, csv_file)\n",
    "\n",
    "# Driver Code\n",
    "if __name__ == \"__main__\":\n",
    "    main(\n",
    "        csv_file=\"/Users/jeffreypan/Documents/DS 4300/ds-4300-assignment1/hw1_data/tweet.csv\"\n",
    "    )  # set filename to tweets to initialize tweets table"
   ]
  },
  {
   "cell_type": "code",
   "execution_count": 8,
   "metadata": {},
   "outputs": [
    {
     "ename": "TypeError",
     "evalue": "execute() takes 2 positional arguments but 3 were given",
     "output_type": "error",
     "traceback": [
      "\u001b[0;31m---------------------------------------------------------------------------\u001b[0m",
      "\u001b[0;31mTypeError\u001b[0m                                 Traceback (most recent call last)",
      "Cell \u001b[0;32mIn[8], line 46\u001b[0m\n\u001b[1;32m     44\u001b[0m \u001b[38;5;66;03m# Driver Code\u001b[39;00m\n\u001b[1;32m     45\u001b[0m \u001b[38;5;28;01mif\u001b[39;00m \u001b[38;5;18m__name__\u001b[39m \u001b[38;5;241m==\u001b[39m \u001b[38;5;124m\"\u001b[39m\u001b[38;5;124m__main__\u001b[39m\u001b[38;5;124m\"\u001b[39m:\n\u001b[0;32m---> 46\u001b[0m         \u001b[43mmain\u001b[49m\u001b[43m(\u001b[49m\u001b[43m)\u001b[49m\n",
      "Cell \u001b[0;32mIn[8], line 41\u001b[0m, in \u001b[0;36mmain\u001b[0;34m()\u001b[0m\n\u001b[1;32m     36\u001b[0m api \u001b[38;5;241m=\u001b[39m TweetUserAPI(\n\u001b[1;32m     37\u001b[0m      \u001b[38;5;124m\"\u001b[39m\u001b[38;5;124mtweetuser\u001b[39m\u001b[38;5;124m\"\u001b[39m, \u001b[38;5;124m\"\u001b[39m\u001b[38;5;124mpassword\u001b[39m\u001b[38;5;124m\"\u001b[39m, \u001b[38;5;124m\"\u001b[39m\u001b[38;5;124mTweets\u001b[39m\u001b[38;5;124m\"\u001b[39m\n\u001b[1;32m     38\u001b[0m )\n\u001b[1;32m     40\u001b[0m \u001b[38;5;66;03m# Get random timelines\u001b[39;00m\n\u001b[0;32m---> 41\u001b[0m \u001b[43mget_random_timelines\u001b[49m\u001b[43m(\u001b[49m\u001b[43mapi\u001b[49m\u001b[43m)\u001b[49m\n",
      "Cell \u001b[0;32mIn[8], line 25\u001b[0m, in \u001b[0;36mget_random_timelines\u001b[0;34m(api, num_timelines)\u001b[0m\n\u001b[1;32m     23\u001b[0m \u001b[38;5;28;01mfor\u001b[39;00m _ \u001b[38;5;129;01min\u001b[39;00m \u001b[38;5;28mrange\u001b[39m(num_timelines):\n\u001b[1;32m     24\u001b[0m     user_id \u001b[38;5;241m=\u001b[39m random\u001b[38;5;241m.\u001b[39mchoice(user_ids)\n\u001b[0;32m---> 25\u001b[0m     timeline \u001b[38;5;241m=\u001b[39m \u001b[43mapi\u001b[49m\u001b[38;5;241;43m.\u001b[39;49m\u001b[43mget_timeline\u001b[49m\u001b[43m(\u001b[49m\u001b[43muser_id\u001b[49m\u001b[43m)\u001b[49m\n\u001b[1;32m     26\u001b[0m     \u001b[38;5;28mprint\u001b[39m(\u001b[38;5;124mf\u001b[39m\u001b[38;5;124m\"\u001b[39m\u001b[38;5;124mTimeline for user_id \u001b[39m\u001b[38;5;132;01m{\u001b[39;00muser_id\u001b[38;5;132;01m}\u001b[39;00m\u001b[38;5;124m: \u001b[39m\u001b[38;5;132;01m{\u001b[39;00mtimeline\u001b[38;5;132;01m}\u001b[39;00m\u001b[38;5;124m\"\u001b[39m)\n\u001b[1;32m     28\u001b[0m     \u001b[38;5;66;03m# Increment API call counter\u001b[39;00m\n",
      "File \u001b[0;32m~/Documents/DS 4300/ds-4300-assignment1/tweet_py/tweet_mysql.py:77\u001b[0m, in \u001b[0;36mTweetUserAPI.get_timeline\u001b[0;34m(self, user_id)\u001b[0m\n\u001b[1;32m     68\u001b[0m sql \u001b[38;5;241m=\u001b[39m \u001b[38;5;124mf\u001b[39m\u001b[38;5;124m\"\"\"\u001b[39m\n\u001b[1;32m     69\u001b[0m \u001b[38;5;124m    SELECT T.tweet_id, T.user_id, T.tweet_ts, T.tweet_text\u001b[39m\n\u001b[1;32m     70\u001b[0m \u001b[38;5;124m    FROM Tweets T\u001b[39m\n\u001b[0;32m   (...)\u001b[0m\n\u001b[1;32m     73\u001b[0m \u001b[38;5;124m    ORDER BY T.tweet_ts DESC\u001b[39m\n\u001b[1;32m     74\u001b[0m \u001b[38;5;124m    LIMIT 10\u001b[39m\u001b[38;5;124m\"\"\"\u001b[39m\n\u001b[1;32m     76\u001b[0m \u001b[38;5;66;03m# create the dataframe\u001b[39;00m\n\u001b[0;32m---> 77\u001b[0m df \u001b[38;5;241m=\u001b[39m \u001b[38;5;28;43mself\u001b[39;49m\u001b[38;5;241;43m.\u001b[39;49m\u001b[43mdbu\u001b[49m\u001b[38;5;241;43m.\u001b[39;49m\u001b[43mexecute\u001b[49m\u001b[43m(\u001b[49m\u001b[43msql\u001b[49m\u001b[43m,\u001b[49m\u001b[43m \u001b[49m\u001b[43muser_id\u001b[49m\u001b[43m)\u001b[49m  \n\u001b[1;32m     78\u001b[0m timeline \u001b[38;5;241m=\u001b[39m [Tweet(\u001b[38;5;241m*\u001b[39mdf\u001b[38;5;241m.\u001b[39miloc[i]) \u001b[38;5;28;01mfor\u001b[39;00m i \u001b[38;5;129;01min\u001b[39;00m \u001b[38;5;28mrange\u001b[39m(\u001b[38;5;28mlen\u001b[39m(df))]\n\u001b[1;32m     79\u001b[0m \u001b[38;5;66;03m# return the timeline\u001b[39;00m\n",
      "\u001b[0;31mTypeError\u001b[0m: execute() takes 2 positional arguments but 3 were given"
     ]
    }
   ],
   "source": [
    "def get_random_timelines(api, num_timelines=30):\n",
    "    \"\"\"\n",
    "    Gets a number of timelines for random users\n",
    "\n",
    "    Args:\n",
    "        api: An instance of TweetUserAPI\n",
    "        num_timelines: The number of timelines to get\n",
    "    \"\"\"\n",
    "\n",
    "    # Get distinct user_ids from the Tweets table\n",
    "    cursor = connection.cursor()\n",
    "    sql = \"SELECT DISTINCT user_id FROM Tweets;\"\n",
    "    cursor.execute(sql)\n",
    "    result = cursor.fetchall()\n",
    "\n",
    "    # Convert the result to a list of user_ids\n",
    "    user_ids = [row[0] for row in result]\n",
    "\n",
    "    # Initialize API call counter\n",
    "    api_calls = 0\n",
    "\n",
    "    # Run get_timeline num_timelines times with a random user_id\n",
    "    for _ in range(num_timelines):\n",
    "        user_id = random.choice(user_ids)\n",
    "        timeline = api.get_timeline(user_id)\n",
    "        print(f\"Timeline for user_id {user_id}: {timeline}\")\n",
    "\n",
    "        # Increment API call counter\n",
    "        api_calls += 1\n",
    "\n",
    "    # Print total number of API calls\n",
    "    print(f\"Total API calls: {api_calls}\")\n",
    "\n",
    "def main():\n",
    "    # Authenticate\n",
    "    api = TweetUserAPI(\n",
    "        \"tweetuser\", \"password\", \"Tweets\"\n",
    "    )\n",
    "\n",
    "    # Get random timelines\n",
    "    get_random_timelines(api)\n",
    "\n",
    "\n",
    "# Driver Code\n",
    "if __name__ == \"__main__\":\n",
    "        main()"
   ]
  },
  {
   "cell_type": "code",
   "execution_count": null,
   "metadata": {},
   "outputs": [],
   "source": []
  }
 ],
 "metadata": {
  "kernelspec": {
   "display_name": "Python 3",
   "language": "python",
   "name": "python3"
  },
  "language_info": {
   "codemirror_mode": {
    "name": "ipython",
    "version": 3
   },
   "file_extension": ".py",
   "mimetype": "text/x-python",
   "name": "python",
   "nbconvert_exporter": "python",
   "pygments_lexer": "ipython3",
   "version": "3.11.5"
  }
 },
 "nbformat": 4,
 "nbformat_minor": 2
}

{
 "cells": [
  {
   "cell_type": "code",
   "execution_count": null,
   "metadata": {},
   "outputs": [],
   "source": [
    "def get_random_timelines(api, num_timelines=30):\n",
    "    \"\"\"\n",
    "    Gets a number of timelines for random users\n",
    "\n",
    "    Args:\n",
    "        api: An instance of TweetUserAPI\n",
    "        num_timelines: The number of timelines to get\n",
    "    \"\"\"\n",
    "\n",
    "    # get user_ids\n",
    "    user_ids = api.get_user_ids()\n",
    "\n",
    "    # Run get_timeline num_timelines times with a random user_id\n",
    "    for i in range(num_timelines):\n",
    "        # select a random choice\n",
    "        user_id = random.choice(user_ids)\n",
    "\n",
    "        timeline = api.get_timeline(user_id)\n",
    "\n",
    "        unpacked_timeline = [(tweet.user_id, tweet.tweet_text) for tweet in timeline]\n",
    "        print(f\"Timeline for user_id {user_id}: {unpacked_timeline}\")\n",
    "\n",
    "\n",
    "def main():\n",
    "    # Authenticate\n",
    "    api = TweetUserAPI(\n",
    "        \"tweetuser\", \"password\", \"Tweets\"\n",
    "    )\n",
    "\n",
    "    # Get random timelines\n",
    "    get_random_timelines(api)\n",
    "\n",
    "\n",
    "# Driver Code\n",
    "if __name__ == \"__main__\":\n",
    "        main()"
   ]
  },
  {
   "cell_type": "code",
   "execution_count": null,
   "metadata": {},
   "outputs": [],
   "source": [
    "def api_tracker(api, call_function, num_iterations=30, per_second=True):\n",
    "    \"\"\"\n",
    "    Tracks the number of API calls made when getting random timelines\n",
    "\n",
    "    Args:\n",
    "        api: An instance of TweetUserAPI\n",
    "        num_timelines: The number of timelines to get\n",
    "    \"\"\"\n",
    "\n",
    "    # Initialize API call counter\n",
    "    api_calls = 0\n",
    "\n",
    "    # Record start time\n",
    "    start_time = time.time()\n",
    "\n",
    "    # Run get_random_timelines and increment API call counter\n",
    "    for _ in range(num_iterations):\n",
    "        api_calls, *values = call_function # will use the api most likely\n",
    "\n",
    "\n",
    "    # Record end time\n",
    "    end_time = time.time()\n",
    "\n",
    "    # Print total number of API calls and API calls per second\n",
    "    print(f\"Total API calls: {api_calls}\")\n",
    "\n",
    "    if per_second is True:\n",
    "        # Calculate elapsed time\n",
    "        elapsed_time = end_time - start_time\n",
    "\n",
    "        # Calculate API calls per second\n",
    "        api_calls_per_second = api_calls / elapsed_time\n",
    "\n",
    "        print(f\"API calls per second: {api_calls_per_second}\")\n",
    "\n",
    "\n",
    "def main():\n",
    "    # Authenticate\n",
    "    api = TweetUserAPI(\n",
    "        \"tweetuser\", \"password\", \"Tweets\"\n",
    "    )\n",
    "\n",
    "    # Track API calls while getting random timelines\n",
    "    api_tracker(api)\n",
    "\n",
    "\n",
    "# Driver Code\n",
    "if __name__ == \"__main__\":\n",
    "    main()"
   ]
  },
  {
   "cell_type": "code",
   "execution_count": 1,
   "metadata": {},
   "outputs": [],
   "source": [
    "import csv\n",
    "import os\n",
    "import pymysql\n",
    "from tweet_mysql import TweetUserAPI\n",
    "from tweet_objects import Tweet, User\n",
    "import pandas as pd\n",
    "import dotenv\n",
    "import random\n",
    "from datetime import datetime\n",
    "from dotenv import load_dotenv, dotenv_values\n",
    "from pprint import pprint\n",
    "import time"
   ]
  },
  {
   "cell_type": "code",
   "execution_count": null,
   "metadata": {},
   "outputs": [],
   "source": [
    "os.chdir('/Users/jeffreypan/Documents/DS 4300/ds-4300-assignment1/tweet_py')"
   ]
  },
  {
   "cell_type": "code",
   "execution_count": 6,
   "metadata": {},
   "outputs": [
    {
     "data": {
      "text/plain": [
       "True"
      ]
     },
     "execution_count": 6,
     "metadata": {},
     "output_type": "execute_result"
    }
   ],
   "source": [
    "load_dotenv()"
   ]
  },
  {
   "cell_type": "code",
   "execution_count": 7,
   "metadata": {},
   "outputs": [
    {
     "data": {
      "text/plain": [
       "OrderedDict([('TWEET_USER', 'tweetuser'), ('TWEET_PASSWORD', 'password')])"
      ]
     },
     "execution_count": 7,
     "metadata": {},
     "output_type": "execute_result"
    }
   ],
   "source": [
    "dotenv_values(\".env\")"
   ]
  },
  {
   "cell_type": "code",
   "execution_count": 9,
   "metadata": {},
   "outputs": [],
   "source": [
    "# initialize conenction given user and password created in sql file with database tweets\n",
    "connection = pymysql.connect(host='localhost',\n",
    "                             user=os.getenv(\"TWEET_USER\"),\n",
    "                             password=os.getenv(\"TWEET_PASSWORD\"),\n",
    "                             db='Tweets')\n"
   ]
  },
  {
   "cell_type": "code",
   "execution_count": 10,
   "metadata": {},
   "outputs": [
    {
     "data": {
      "text/html": [
       "<div>\n",
       "<style scoped>\n",
       "    .dataframe tbody tr th:only-of-type {\n",
       "        vertical-align: middle;\n",
       "    }\n",
       "\n",
       "    .dataframe tbody tr th {\n",
       "        vertical-align: top;\n",
       "    }\n",
       "\n",
       "    .dataframe thead th {\n",
       "        text-align: right;\n",
       "    }\n",
       "</style>\n",
       "<table border=\"1\" class=\"dataframe\">\n",
       "  <thead>\n",
       "    <tr style=\"text-align: right;\">\n",
       "      <th></th>\n",
       "      <th>tweet_id</th>\n",
       "      <th>user_id</th>\n",
       "      <th>tweet_ts</th>\n",
       "      <th>tweet_text</th>\n",
       "    </tr>\n",
       "  </thead>\n",
       "  <tbody>\n",
       "  </tbody>\n",
       "</table>\n",
       "</div>"
      ],
      "text/plain": [
       "Empty DataFrame\n",
       "Columns: [tweet_id, user_id, tweet_ts, tweet_text]\n",
       "Index: []"
      ]
     },
     "execution_count": 10,
     "metadata": {},
     "output_type": "execute_result"
    }
   ],
   "source": [
    "# testing out code\n",
    "cursor = connection.cursor()\n",
    "sql = \"SELECT *  FROM Tweets LIMIT 10;\" # automatically assumes count?\n",
    "cursor.execute(sql)\n",
    "result = cursor.fetchall() # fetching it gets the real data\n",
    "\n",
    "# Convert the result to a DataFrame\n",
    "df = pd.DataFrame(result, columns=[i[0] for i in cursor.description])\n",
    "\n",
    "df.head()"
   ]
  },
  {
   "cell_type": "code",
   "execution_count": null,
   "metadata": {},
   "outputs": [],
   "source": [
    "# testing out code\n",
    "cursor = connection.cursor()\n",
    "sql = \"SELECT COUNT(tweet_id) FROM tweets;\"\n",
    "cursor.execute(sql)\n",
    "result = cursor.fetchall() # fetching it gets the real data\n",
    "\n",
    "# Convert the result to a DataFrame\n",
    "df = pd.DataFrame(result, columns=[i[0] for i in cursor.description])\n",
    "\n",
    "df.head()"
   ]
  },
  {
   "cell_type": "code",
   "execution_count": null,
   "metadata": {},
   "outputs": [],
   "source": [
    "# testing out code\n",
    "cursor = connection.cursor()\n",
    "sql = \"SELECT * FROM Follows;\" # automatically assumes count?\n",
    "cursor.execute(sql)\n",
    "result = cursor.fetchall() # fetching it gets the real data\n",
    "\n",
    "# Convert the result to a DataFrame\n",
    "df = pd.DataFrame(result, columns=[i[0] for i in cursor.description])\n",
    "\n",
    "df.head()"
   ]
  },
  {
   "cell_type": "code",
   "execution_count": null,
   "metadata": {},
   "outputs": [],
   "source": [
    "# Establish a database connection\n",
    "connection = pymysql.connect(\n",
    "    host=\"localhost\", user=\"tweetuser\", password=\"password\", db=\"Tweets\"\n",
    ")\n",
    "\n",
    "\n",
    "def read_tweet_csv(api, csv_data):\n",
    "    \"\"\"\n",
    "    Reads a CSV file and returns a list of Tweet objects\n",
    "\n",
    "    Args:\n",
    "        csv_file: A CSV file containing tweet data\n",
    "    Returns:\n",
    "\n",
    "        A list of Tweet objects\n",
    "    \"\"\"\n",
    "\n",
    "    for row in csv_data:\n",
    "        one_tweet = Tweet(\n",
    "            int(row[\"USER_ID\"]),\n",
    "            row[\"TWEET_TEXT\"],\n",
    "            datetime.now()\n",
    "        )\n",
    "        api.post_tweet(one_tweet)\n",
    "        print(row)\n",
    "\n",
    "\n",
    "\n",
    "def main(csv_file):\n",
    "    # Open the CSV file once to get the data object,\n",
    "    # then can get each row with the read_tweet_csv function instead of reading the file each function call\n",
    "    csv_data = csv.DictReader(open(csv_file))\n",
    "    # Authenticate\n",
    "    api = TweetUserAPI(\n",
    "        \"tweetuser\", \"password\", \"Tweets\"\n",
    "    )\n",
    "\n",
    "    # Load tweets data into sql database one at a time\n",
    "    read_tweet_csv(api, csv_data)\n",
    "\n",
    "# Driver Code\n",
    "if __name__ == \"__main__\":\n",
    "    main(\n",
    "        csv_file=\"/Users/jeffreypan/Documents/DS 4300/ds-4300-assignment1/hw1_data/tweets_sample.csv\"\n",
    "    )  # set filename to tweets to initialize tweets table\n"
   ]
  },
  {
   "cell_type": "markdown",
   "metadata": {},
   "source": [
    "The number of API calls per second is a measure of how many times your program is able to send requests to the API within one second. It's a common way to measure the rate of requests in applications that interact with APIs.\n",
    "\n",
    "This metric is important because most APIs have a limit on the number of requests you can make in a certain period of time, often referred to as rate limiting. If your program makes requests too quickly and exceeds this limit, the API might respond with an error, or your access to the API might be temporarily or permanently blocked.\n",
    "\n",
    "By monitoring the number of API calls per second, you can ensure that your program stays within the API's rate limits. If necessary, you can adjust your program to make requests more slowly to avoid exceeding these limits."
   ]
  },
  {
   "cell_type": "code",
   "execution_count": null,
   "metadata": {},
   "outputs": [],
   "source": [
    "import time\n",
    "import csv\n",
    "\n",
    "# Establish a database connection\n",
    "connection = pymysql.connect(\n",
    "    host=\"localhost\", user=\"tweetuser\", password=\"password\", db=\"Tweets\"\n",
    ")\n",
    "\n",
    "def read_tweet_csv(api, csv_file):\n",
    "    \"\"\"\n",
    "    Reads a CSV file and returns a list of Tweet objects\n",
    "\n",
    "    Args:\n",
    "        csv_file: A CSV file containing tweet data\n",
    "    Returns:\n",
    "\n",
    "        A list of Tweet objects\n",
    "    \"\"\"\n",
    "\n",
    "    api_calls = 0\n",
    "    start_time = time.time()\n",
    "\n",
    "    with open(csv_file, 'r') as f:\n",
    "        csv_data = csv.DictReader(f)\n",
    "        for i, row in enumerate(csv_data, start=1):\n",
    "            one_tweet = Tweet(\n",
    "                int(row[\"USER_ID\"]),\n",
    "                row[\"TWEET_TEXT\"],\n",
    "                datetime.now())\n",
    "            api.post_tweet(one_tweet)\n",
    "\n",
    "            # add api calls\n",
    "            api_calls += 1\n",
    "\n",
    "    elapsed_time = time.time() - start_time\n",
    "    if elapsed_time > 0:\n",
    "        print(f\"API calls per second: {api_calls / elapsed_time}\")\n",
    "\n",
    "def main(csv_file):\n",
    "    # Authenticate\n",
    "    api = TweetUserAPI(\n",
    "        \"tweetuser\", \"password\", \"Tweets\"\n",
    "    )\n",
    "\n",
    "    # Load tweets data into sql database one at a time\n",
    "    read_tweet_csv(api, csv_file)\n",
    "\n",
    "# Driver Code\n",
    "if __name__ == \"__main__\":\n",
    "    main(\n",
    "        csv_file=\"/Users/jeffreypan/Documents/DS 4300/ds-4300-assignment1/hw1_data/tweet.csv\"\n",
    "    )  # set filename to tweets to initialize tweets table"
   ]
  },
  {
   "cell_type": "code",
   "execution_count": null,
   "metadata": {},
   "outputs": [],
   "source": [
    "cursor = connection.cursor()\n",
    "sql = \"SELECT DISTINCT user_id FROM Tweets;\"\n",
    "cursor.execute(sql)\n",
    "result = cursor.fetchall()\n",
    "# Convert the result to a DataFrame\n",
    "df = pd.DataFrame(result, columns=[i[0] for i in cursor.description])\n",
    "df.head()"
   ]
  },
  {
   "cell_type": "code",
   "execution_count": null,
   "metadata": {},
   "outputs": [],
   "source": []
  }
 ],
 "metadata": {
  "kernelspec": {
   "display_name": "Python 3",
   "language": "python",
   "name": "python3"
  },
  "language_info": {
   "codemirror_mode": {
    "name": "ipython",
    "version": 3
   },
   "file_extension": ".py",
   "mimetype": "text/x-python",
   "name": "python",
   "nbconvert_exporter": "python",
   "pygments_lexer": "ipython3",
   "version": "3.11.5"
  }
 },
 "nbformat": 4,
 "nbformat_minor": 2
}
